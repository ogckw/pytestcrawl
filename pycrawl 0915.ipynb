{
 "cells": [
  {
   "cell_type": "code",
   "execution_count": null,
   "metadata": {
    "collapsed": false
   },
   "outputs": [],
   "source": [
    "import requests\n",
    "payload = {\n",
    "    'method':'search',\n",
    "'searchMethod':'true',\n",
    "'searchTarget':'ATM',\n",
    "'orgName':'',\n",
    "'orgId':'',\n",
    "'hid_1':'1',\n",
    "'tenderName':'',\n",
    "'tenderId':'',\n",
    "'tenderStatus':'4,5,21,29',\n",
    "'tenderWay':'',\n",
    "'awardAnnounceStartDate':'104/09/15',\n",
    "'awardAnnounceEndDate':'104/09/15',\n",
    "'proctrgCate':'',\n",
    "'tenderRange':'',\n",
    "'minBudget':'',\n",
    "'maxBudget':'',\n",
    "'item':'',\n",
    "'hid_2':'1',\n",
    "'gottenVendorName':'',\n",
    "'gottenVendorId':'',\n",
    "'hid_3':'1',\n",
    "'submitVendorName':'',\n",
    "'submitVendorId':'',\n",
    "'location':'',\n",
    "'priorityCate':'',\n",
    "'isReConstruct':'',\n",
    "'btnQuery':'查詢'   \n",
    "}\n",
    "rs = requests.session()\n",
    "res = requests.post('http://web.pcc.gov.tw/tps/pss/tender.do?searchMode=common&searchType=advance',data = payload)\n",
    "\n",
    "from bs4 import BeautifulSoup as bs\n",
    "soup = bs(res.text)"
   ]
  },
  {
   "cell_type": "code",
   "execution_count": null,
   "metadata": {
    "collapsed": false
   },
   "outputs": [],
   "source": [
    "from math import ceil\n",
    "rec_number = (soup.select('.T11b')[0].text)\n",
    "page_number =  int(ceil(float(rec_number)/100))\n",
    "print page_number"
   ]
  },
  {
   "cell_type": "code",
   "execution_count": null,
   "metadata": {
    "collapsed": false
   },
   "outputs": [],
   "source": [
    "rs = requests.session()\n",
    "res = rs.post('http://web.pcc.gov.tw/tps/pss/tender.do?searchMode=common&searchType=advance',data = payload)\n",
    "page_format = 'http://web.pcc.gov.tw/tps/pss/tender.do?searchMode=common&searchType=advance&\\\n",
    "searchTarget=ATM&method=search&isSpdt=&pageIndex={0}'\n",
    "for page in range(1,page_number + 1 ):\n",
    "    print page_format.format(page)"
   ]
  },
  {
   "cell_type": "code",
   "execution_count": null,
   "metadata": {
    "collapsed": false
   },
   "outputs": [],
   "source": [
    "rs = requests.session()\n",
    "res = rs.post('http://web.pcc.gov.tw/tps/pss/tender.do?searchMode=common&searchType=advance',data = payload)\n",
    "page_format = 'http://web.pcc.gov.tw/tps/pss/tender.do?searchMode=common&searchType=advance&\\\n",
    "searchTarget=ATM&method=search&isSpdt=&pageIndex={0}'\n",
    "web = rs.get(page_format.format(6))\n",
    "\n",
    "from bs4 import BeautifulSoup as bs\n",
    "bid_soup = bs(web.text)\n",
    "bid_table = bid_soup.select('#print_area')[0]\n",
    "bid_rows = bid_table.select('tr')[1:-1]\n",
    "\n",
    "\n",
    "\n",
    "'''\n",
    "for page in range(1,page_number + 1 ):\n",
    "    pageurl = page_format.format(page)\n",
    "    res2 = rs.get(pageurl)\n",
    "    print res2\n",
    "    print res2.url\n",
    "'''\n"
   ]
  },
  {
   "cell_type": "code",
   "execution_count": null,
   "metadata": {
    "collapsed": false
   },
   "outputs": [],
   "source": [
    "import urlparse\n",
    "\n",
    "#for bid_row in bid_rows:\n",
    "#    print 'http://web.pcc.gov.tw/tps' + bid_row.select('a')[0]['href'][2:]\n",
    "\n",
    "f = open('bid_list.txt', 'w')  \n",
    "for bid_row in bid_rows: \n",
    "    link_href =  urlparse.urljoin(res.url , \\\n",
    "                           bid_row.select('a')[0]['href'])\n",
    "    f.write(link_href + '\\n')\n",
    "f.close()"
   ]
  },
  {
   "cell_type": "code",
   "execution_count": null,
   "metadata": {
    "collapsed": false
   },
   "outputs": [],
   "source": [
    "#full version\n",
    "\n",
    "import requests\n",
    "payload = {\n",
    "    'method':'search',\n",
    "'searchMethod':'true',\n",
    "'searchTarget':'ATM',\n",
    "'orgName':'',\n",
    "'orgId':'',\n",
    "'hid_1':'1',\n",
    "'tenderName':'',\n",
    "'tenderId':'',\n",
    "'tenderStatus':'4,5,21,29',\n",
    "'tenderWay':'',\n",
    "'awardAnnounceStartDate':'104/09/15',\n",
    "'awardAnnounceEndDate':'104/09/15',\n",
    "'proctrgCate':'',\n",
    "'tenderRange':'',\n",
    "'minBudget':'',\n",
    "'maxBudget':'',\n",
    "'item':'',\n",
    "'hid_2':'1',\n",
    "'gottenVendorName':'',\n",
    "'gottenVendorId':'',\n",
    "'hid_3':'1',\n",
    "'submitVendorName':'',\n",
    "'submitVendorId':'',\n",
    "'location':'',\n",
    "'priorityCate':'',\n",
    "'isReConstruct':'',\n",
    "'btnQuery':'查詢'   \n",
    "}\n",
    "# get the session\n",
    "rs = requests.session()\n",
    "res = rs.post('http://web.pcc.gov.tw/tps/pss/tender.do?searchMode=common&searchType=advance',data = payload)\n",
    "\n",
    "\n",
    "# get the page number\n",
    "from bs4 import BeautifulSoup as bs\n",
    "soup = bs(res.text)\n",
    "from math import ceil\n",
    "rec_number = (soup.select('.T11b')[0].text)\n",
    "page_number =  int(ceil(float(rec_number)/100))\n",
    "\n",
    "# open a file\n",
    "f = open('bid_list.txt', 'w')\n",
    "\n",
    "# format\n",
    "page_format = 'http://web.pcc.gov.tw/tps/pss/tender.do?searchMode=common&searchType=advance&\\\n",
    "searchTarget=ATM&method=search&isSpdt=&pageIndex={}'\n",
    "\n",
    "# page iteration\n",
    "\n",
    "from bs4 import BeautifulSoup as bs\n",
    "import urlparse\n",
    "for page in range(1,page_number + 1 ):\n",
    "    pageurl = page_format.format(page)\n",
    "    res2 = rs.get(pageurl)\n",
    "    bid_soup = bs(res2.text)\n",
    "    bid_table = bid_soup.select('#print_area')[0]\n",
    "    bid_rows = bid_table.select('tr')[1:-1]   \n",
    "    for bid_row in bid_rows: \n",
    "        link_href = urlparse.urljoin(res.url , \\\n",
    "                                     bid_row.select('a')[0]['href'])\n",
    "        f.write(link_href + '\\n')\n",
    "f.close()\n",
    "\n",
    "   \n"
   ]
  },
  {
   "cell_type": "code",
   "execution_count": null,
   "metadata": {
    "collapsed": false
   },
   "outputs": [],
   "source": [
    "#test\n",
    "print len([f for f in open('bid_list.txt', 'r')])\n",
    "#test2\n",
    "full = open('bid_list.txt', 'r')\n",
    "cnt = 0\n",
    "for f in full:\n",
    "    cnt +=1\n",
    "print cnt\n",
    "full.close()\n",
    "\n",
    "#test3\n",
    "\n",
    "full = open('bid_list.txt', 'r')\n",
    "cnt = 0\n",
    "for idt,line in enumerate(full):\n",
    "    cnt = idt\n",
    "print cnt + 1\n",
    "#check the same\n",
    "rec_number = int(rec_number)\n",
    "if rec_number ==cnt+1:\n",
    "    print 'download successfully'\n"
   ]
  },
  {
   "cell_type": "code",
   "execution_count": null,
   "metadata": {
    "collapsed": false
   },
   "outputs": [],
   "source": [
    "from bs4 import BeautifulSoup as bs\n",
    "#research the key\n",
    "bid_url = open('bid_list.txt','r')\n",
    "headers ={\n",
    " 'Accept':'text/html,application/xhtml+xml,application/xml;q=0.9,image/webp,*/*;q=0.8',\n",
    "'Accept-Encoding':'gzip, deflate, sdch',\n",
    "'Accept-Language':'zh-TW,zh;q=0.8,en-US;q=0.6,en;q=0.4',\n",
    "'Cache-Control':'max-age=0',\n",
    "'Connection':'keep-alive',\n",
    "'Cookie':'ccsession=201509151127266601000a2b508171; ccguid=201509151127266601000a2b508171; JSESSIONID=0000pi52yffFHj17Ve5I1hGrDtL:14adnh85p; cookiesession1=5D83A987UXHFDHKLQ3MJNOPQOZQ02F1F; NSC_xfc_qfstjtufodf=ffffffff09081f7745525d5f4f58455e445a4a423660',\n",
    "'Host':'web.pcc.gov.tw',\n",
    "'Upgrade-Insecure-Requests':'1'\n",
    "} \n",
    "bid_detail = open(\"bid_detail.txt\",'w') \n",
    "url = bid_url.readline().strip()   #strip()必加 去空白\n",
    "#http://web.pcc.gov.tw/tps/main/pms/tps/atm/atmAwardAction.do?newEdit=false&searchMode=common&method=inquiryForPublic&pkAtmMain=51642101&tenderCaseNo=1040828\n",
    "\n",
    "request_get = requests.get(url,headers=headers)\n",
    "response = request_get.text.encode('utf-8')\n",
    "soup = bs(response)\n",
    "printarea = soup.select('#printArea')[0]\n",
    "bid_detail.close()\n",
    "\n"
   ]
  },
  {
   "cell_type": "code",
   "execution_count": null,
   "metadata": {
    "collapsed": false
   },
   "outputs": [],
   "source": [
    "f = open('bid_list.txt', 'r')\n",
    "import time\n",
    "from bs4 import BeautifulSoup\n",
    "for ele in f.readlines():\n",
    "    link = ele.strip()\n",
    "    res = requests.get(link)\n",
    "    soup = BeautifulSoup(res.text)\n",
    "    printarea = soup.select('#printArea')[0]\n",
    "    rear_substring = link.split(\"pkAtmMain=\")[1]\n",
    "    param = rear_substring.split(\"&tenderCaseNo=\") \n",
    "    pkAtmMain= param[0] \n",
    "    caseno= param[1] \n",
    "    fname = 'gov/{0}_{1}.txt'.format(pkAtmMain,caseno )    \n",
    "    f2 = open(fname, 'w')\n",
    "    f2.write(printarea.prettify('utf-8'))\n",
    "    f2.close()\n",
    "    time.sleep(3)\n",
    "f.close()"
   ]
  },
  {
   "cell_type": "code",
   "execution_count": null,
   "metadata": {
    "collapsed": false
   },
   "outputs": [],
   "source": [
    "#\n",
    "case_dic = {}\n",
    "f = open ('bid_list.txt','r')\n",
    "for line in f.readlines():\n",
    "    rec = line.strip()\n",
    "    caseno = rec.split('tenderCaseNo=')[1]\n",
    "    if caseno not in case_dic:\n",
    "        case_dic[caseno] = 1\n",
    "    else:\n",
    "        print caseno\n",
    "f.close()"
   ]
  },
  {
   "cell_type": "code",
   "execution_count": null,
   "metadata": {
    "collapsed": false
   },
   "outputs": [],
   "source": [
    "from bs4 import BeautifulSoup as bs\n",
    "from selenium import webdriver\n",
    "wd = webdriver.Firefox()\n",
    "\n",
    "import requests\n",
    "headers = {\n",
    "    'Accept':'text/html,application/xhtml+xml,application/xml;q=0.9,image/webp,*/*;q=0.8',\n",
    "'Accept-Encoding':'gzip, deflate, sdch',\n",
    "'Accept-Language':'zh-TW,zh;q=0.8,en-US;q=0.6,en;q=0.4',\n",
    "'Cache-Control':'max-age=0',\n",
    "'Connection':'keep-alive',\n",
    "'Cookie':'RI=0',\n",
    "'Host':'www.comicvip.com',\n",
    "'Referer':'http://www.comicvip.com/show/cool-103.html?ch=799-1',\n",
    "'Upgrade-Insecure-Requests':'1',\n",
    "'User-Agent':'Mozilla/5.0 (Windows NT 6.1; WOW64) AppleWebKit/537.36 (KHTML, like Gecko) Chrome/45.0.2454.85 Safari/537.36' \n",
    "}\n",
    "res = requests.get('http://www.comicvip.com/show/cool-103.html?ch=799-2',headers=headers,timeout=20)\n",
    "res.encoding = 'big5'\n",
    "soup=bs(res.text)\n",
    "print soup"
   ]
  },
  {
   "cell_type": "code",
   "execution_count": null,
   "metadata": {
    "collapsed": false
   },
   "outputs": [],
   "source": [
    "data = [15, 46, 60, 23, 15, 19, 1, 22, 45, 38]\n",
    "\n",
    "p = 0           # 目前最佳解的 min 的索引值\n",
    "ans = (0, 0)    # (min, max)\n",
    "\n",
    "for i in range(len(data)):\n",
    "    if data[i] < data[p]:\n",
    "        p = i                   # 更新最佳解的 min 的索引值\n",
    "\n",
    "    elif data[i] - data[p] > data[ans[1]] - data[ans[0]]:\n",
    "        ans = (p, i)            # 更新解答\n",
    "\n",
    "print('min = data[%s] = %s' % (ans[0], data[ans[0]]))\n",
    "print('max = data[%s] = %s' % (ans[1], data[ans[1]]))\n",
    "\n"
   ]
  },
  {
   "cell_type": "code",
   "execution_count": null,
   "metadata": {
    "collapsed": false
   },
   "outputs": [],
   "source": [
    "from ghost import Ghost\n",
    "\n",
    "url = \"http://www.ebay.com/\"\n",
    "gh = Ghost()\n",
    "\n",
    "# We load the main page of ebay\n",
    "page, resources = gh.open(url, wait_onload_event=True)\n",
    "\n",
    "# Full the main bar and click on the search button\n",
    "gh.set_field_value(\"#gh-ac\", \"plane\")\n",
    "gh.click(\"#gh-btn\")\n",
    "\n",
    "# Wait for the next page\n",
    "gh.wait_for_selector(\"#e1-15\")\n",
    "\n",
    "# Save the image of the screen\n",
    "gh.capture_to(\"plane.png\")"
   ]
  },
  {
   "cell_type": "code",
   "execution_count": null,
   "metadata": {
    "collapsed": false
   },
   "outputs": [],
   "source": [
    "from bs4 import BeautifulSoup as bs\n",
    "f = open('.\\gov/51642102_N10409.txt','r')\n",
    "soup = bs(f.read())\n",
    "for th in soup.select('th'):\n",
    "    print th.text.strip()"
   ]
  },
  {
   "cell_type": "code",
   "execution_count": null,
   "metadata": {
    "collapsed": false
   },
   "outputs": [],
   "source": [
    "dic = {\"機關代碼\":\"\",\"機關名稱\":\"\",\"機關地址\":\"\", \"聯絡人\":\"\",\"開標時間\":\"\"}\n",
    "for tr in soup.select('tr'):\n",
    "    th = tr.select('th')\n",
    "    if len(th) > 0:\n",
    "        if tr.select('th')[0].text.strip().encode('utf-8') in dic:\n",
    "            dic[tr.select('th')[0].text.strip().encode('utf-8')] = tr.select('td')[0].text.strip().encode('utf-8')\n",
    "            "
   ]
  },
  {
   "cell_type": "code",
   "execution_count": null,
   "metadata": {
    "collapsed": false
   },
   "outputs": [],
   "source": [
    "for f in dic:\n",
    "    print f +' : ' + dic[f]"
   ]
  },
  {
   "cell_type": "code",
   "execution_count": null,
   "metadata": {
    "collapsed": false
   },
   "outputs": [],
   "source": [
    "from datetime import datetime\n",
    "date = '104/09/02 10:00'\n",
    "date2 = date.split('/',1)\n",
    "print date2\n",
    "getyear = int(date.split('/',1))+1911\n",
    "\n",
    "bcTime = '/'.join([str(getyear),date2[1]])\n",
    "print type(bcTime)\n",
    "print bcTime\n",
    "bcTime = datetime.strptime(bcTime,\"%Y/%m/%d %H:%M\")\n",
    "print type(bcTime)\n",
    "print bcTime"
   ]
  },
  {
   "cell_type": "code",
   "execution_count": null,
   "metadata": {
    "collapsed": false
   },
   "outputs": [],
   "source": [
    "from datetime import datetime\n",
    "import os, sys, re\n",
    "def date_conversion(element):\n",
    "    m = re.match(r\"(\\d+/\\d+/\\d+)\",element)\n",
    "    if m is not None:\n",
    "        t = m.group(1).split('/',1)\n",
    "        if t[0] != '':\n",
    "            return datetime.strptime(str(int(t[0]) + 1911) + '/' + (''.join(t[1:]).split()[0] ),\"%Y/%m/%d\")\n",
    "        else:\n",
    "            return None\n",
    "print date_conversion('102/11/10')\n",
    "print date_conversion('102/11/10 13:00')"
   ]
  },
  {
   "cell_type": "code",
   "execution_count": null,
   "metadata": {
    "collapsed": false
   },
   "outputs": [],
   "source": [
    "def money_conversion(element):\n",
    "    m = re.match(r\"\\$?-?([0-9,]+)[元]?\",element)\n",
    "    return int(''.join(m.group(1).split(',')))\n",
    "\n",
    "print money_conversion('5000')"
   ]
  },
  {
   "cell_type": "code",
   "execution_count": null,
   "metadata": {
    "collapsed": false
   },
   "outputs": [],
   "source": [
    "string = '元'\n",
    "\n",
    "m = re.match(r\"元\",string)\n",
    "print m"
   ]
  },
  {
   "cell_type": "code",
   "execution_count": null,
   "metadata": {
    "collapsed": false
   },
   "outputs": [],
   "source": [
    "m = re.match(r\"\\$?-?([0-9,]+)[元]?\",'5000')\n",
    "    \n",
    "print m"
   ]
  },
  {
   "cell_type": "code",
   "execution_count": null,
   "metadata": {
    "collapsed": false
   },
   "outputs": [],
   "source": [
    "#Gready Search 搜尋到最後一個符合的才停\n",
    "a = '我從口袋中撿到200元 超爽der 30元他只剩'\n",
    "import re\n",
    "m = re.search('(.*\\d+元)',a)\n",
    "print m.group(1)"
   ]
  },
  {
   "cell_type": "code",
   "execution_count": null,
   "metadata": {
    "collapsed": false
   },
   "outputs": [],
   "source": [
    "#None Gready Search 搜尋到第一個符合的就停\n",
    "a = '我從口袋中撿到200元 超爽der 30元他只剩'\n",
    "import re\n",
    "m = re.search('(.*?\\d+元)',a)\n",
    "print m.group(1)"
   ]
  },
  {
   "cell_type": "code",
   "execution_count": null,
   "metadata": {
    "collapsed": false
   },
   "outputs": [],
   "source": [
    "# \"^\" 正規表示法練習 開頭是A或a\n",
    "import re\n",
    "a ='Abcd'\n",
    "m = re.match('^[Aa][A-Zb-z]+',a)\n",
    "print m.group(0)\n"
   ]
  },
  {
   "cell_type": "code",
   "execution_count": null,
   "metadata": {
    "collapsed": false
   },
   "outputs": [],
   "source": [
    "def remove_space(element):\n",
    "    return ''.join(element.split())\n",
    "print remove_space('adawd              adawdawd           adawd     ')"
   ]
  },
  {
   "cell_type": "code",
   "execution_count": null,
   "metadata": {
    "collapsed": false
   },
   "outputs": [],
   "source": [
    "#合成字串去空白\n",
    "a ='awdawdawdaw     awdawd'\n",
    "print ''.join(a.split())"
   ]
  },
  {
   "cell_type": "code",
   "execution_count": null,
   "metadata": {
    "collapsed": false
   },
   "outputs": [],
   "source": [
    "name_map = {\"機關代碼\":\"entity_code\", \"機關名稱\":\"procuring_entity\",\"標案案號\":\"job_number\",\"招標方式\":\"procurement_type\",\\\n",
    "            \"決標方式\":\"tender_awarding_type\",\"標案名稱\":\"subject_of_procurement\", \"決標資料類別\":\"attr_of_tender_awarding\", \\\n",
    "            \"標的分類\":\"attr_of_procurement\", \"預算金額\":\"budget_value\", \"開標時間\":\"opening_date\",\"決標公告日期\":\"tender_awarding_announce_date\",\\\n",
    "            \"歸屬計畫類別\":\"project_type\",\"總決標金額\":\"total_tender_awarding_value\",\"底價金額\":\"floor_price_value\",\\\n",
    "            \"決標日期\":\"tender_awarding_date\", \"pkAtmMain\":\"pkAtmMain\"} \n",
    "for f in name_map:\n",
    "    print f,name_map[f]\n",
    "    \n",
    "tender_awards_map = {\"機關代碼\":remove_space, \"機關名稱\":remove_space, \"標案案號\":remove_space, \\\n",
    "                     \"招標方式\":remove_space,\"決標方式\":remove_space,\"標案名稱\":remove_space, \"決標資料類別\":remove_space, \\\n",
    "                     \"標的分類\":remove_space, \"預算金額\":money_conversion, \"開標時間\":date_conversion,\"歸屬計畫類別\":remove_space, \\\n",
    "                        \"總決標金額\":money_conversion,\"底價金額\":money_conversion,\"決標日期\":date_conversion, \"決標公告日期\":date_conversion}    "
   ]
  },
  {
   "cell_type": "code",
   "execution_count": null,
   "metadata": {
    "collapsed": false
   },
   "outputs": [],
   "source": [
    "def a(str1):\n",
    "    return 'qadawd' + str1\n",
    "\n",
    "def b(str1):\n",
    "    return 'awdawdaw' + str1\n",
    "\n",
    "func_map = {'g': a, 'ad':b}\n",
    "\n",
    "print func_map['ad']('hello')\n"
   ]
  },
  {
   "cell_type": "code",
   "execution_count": 4,
   "metadata": {
    "collapsed": false
   },
   "outputs": [
    {
     "name": "stdout",
     "output_type": "stream",
     "text": [
      "開標時間 opening_date\n",
      "招標方式 procurement_type\n",
      "決標方式 tender_awarding_type\n",
      "標案名稱 subject_of_procurement\n",
      "pkAtmMain pkAtmMain\n",
      "機關名稱 procuring_entity\n",
      "機關代碼 entity_code\n",
      "預算金額 budget_value\n",
      "總決標金額 total_tender_awarding_value\n",
      "標的分類 attr_of_procurement\n",
      "底價金額 floor_price_value\n",
      "決標日期 tender_awarding_date\n",
      "決標公告日期 tender_awarding_announce_date\n",
      "歸屬計畫類別 project_type\n",
      "標案案號 job_number\n",
      "決標資料類別 attr_of_tender_awarding\n"
     ]
    },
    {
     "ename": "NameError",
     "evalue": "name 'remove_space' is not defined",
     "output_type": "error",
     "traceback": [
      "\u001b[1;31m---------------------------------------------------------------------------\u001b[0m",
      "\u001b[1;31mNameError\u001b[0m                                 Traceback (most recent call last)",
      "\u001b[1;32m<ipython-input-4-68a44ecf9b04>\u001b[0m in \u001b[0;36m<module>\u001b[1;34m()\u001b[0m\n\u001b[0;32m      3\u001b[0m     \u001b[1;32mprint\u001b[0m \u001b[0mf\u001b[0m\u001b[1;33m,\u001b[0m\u001b[0mname_map\u001b[0m\u001b[1;33m[\u001b[0m\u001b[0mf\u001b[0m\u001b[1;33m]\u001b[0m\u001b[1;33m\u001b[0m\u001b[0m\n\u001b[0;32m      4\u001b[0m \u001b[1;33m\u001b[0m\u001b[0m\n\u001b[1;32m----> 5\u001b[1;33m \u001b[0mtender_awards_map\u001b[0m \u001b[1;33m=\u001b[0m \u001b[1;33m{\u001b[0m\u001b[1;34m\"機關代碼\"\u001b[0m\u001b[1;33m:\u001b[0m\u001b[0mremove_space\u001b[0m\u001b[1;33m,\u001b[0m \u001b[1;34m\"機關名稱\"\u001b[0m\u001b[1;33m:\u001b[0m\u001b[0mremove_space\u001b[0m\u001b[1;33m,\u001b[0m \u001b[1;34m\"標案案號\"\u001b[0m\u001b[1;33m:\u001b[0m\u001b[0mremove_space\u001b[0m\u001b[1;33m,\u001b[0m                      \u001b[1;34m\"招標方式\"\u001b[0m\u001b[1;33m:\u001b[0m\u001b[0mremove_space\u001b[0m\u001b[1;33m,\u001b[0m\u001b[1;34m\"決標方式\"\u001b[0m\u001b[1;33m:\u001b[0m\u001b[0mremove_space\u001b[0m\u001b[1;33m,\u001b[0m\u001b[1;34m\"標案名稱\"\u001b[0m\u001b[1;33m:\u001b[0m\u001b[0mremove_space\u001b[0m\u001b[1;33m,\u001b[0m \u001b[1;34m\"決標資料類別\"\u001b[0m\u001b[1;33m:\u001b[0m\u001b[0mremove_space\u001b[0m\u001b[1;33m,\u001b[0m                      \u001b[1;34m\"標的分類\"\u001b[0m\u001b[1;33m:\u001b[0m\u001b[0mremove_space\u001b[0m\u001b[1;33m,\u001b[0m \u001b[1;34m\"預算金額\"\u001b[0m\u001b[1;33m:\u001b[0m\u001b[0mmoney_conversion\u001b[0m\u001b[1;33m,\u001b[0m \u001b[1;34m\"開標時間\"\u001b[0m\u001b[1;33m:\u001b[0m\u001b[0mdate_conversion\u001b[0m\u001b[1;33m,\u001b[0m\u001b[1;34m\"歸屬計畫類別\"\u001b[0m\u001b[1;33m:\u001b[0m\u001b[0mremove_space\u001b[0m\u001b[1;33m,\u001b[0m                         \u001b[1;34m\"總決標金額\"\u001b[0m\u001b[1;33m:\u001b[0m\u001b[0mmoney_conversion\u001b[0m\u001b[1;33m,\u001b[0m\u001b[1;34m\"底價金額\"\u001b[0m\u001b[1;33m:\u001b[0m\u001b[0mmoney_conversion\u001b[0m\u001b[1;33m,\u001b[0m\u001b[1;34m\"決標日期\"\u001b[0m\u001b[1;33m:\u001b[0m\u001b[0mdate_conversion\u001b[0m\u001b[1;33m,\u001b[0m \u001b[1;34m\"決標公告日期\"\u001b[0m\u001b[1;33m:\u001b[0m\u001b[0mdate_conversion\u001b[0m\u001b[1;33m}\u001b[0m\u001b[1;33m\u001b[0m\u001b[0m\n\u001b[0m",
      "\u001b[1;31mNameError\u001b[0m: name 'remove_space' is not defined"
     ]
    }
   ],
   "source": [
    "name_map = {\"機關代碼\":\"entity_code\", \"機關名稱\":\"procuring_entity\",\"標案案號\":\"job_number\",\"招標方式\":\"procurement_type\",\\\n",
    "            \"決標方式\":\"tender_awarding_type\",\"標案名稱\":\"subject_of_procurement\", \"決標資料類別\":\"attr_of_tender_awarding\", \\\n",
    "            \"標的分類\":\"attr_of_procurement\", \"預算金額\":\"budget_value\", \"開標時間\":\"opening_date\",\"決標公告日期\":\"tender_awarding_announce_date\",\\\n",
    "            \"歸屬計畫類別\":\"project_type\",\"總決標金額\":\"total_tender_awarding_value\",\"底價金額\":\"floor_price_value\",\\\n",
    "            \"決標日期\":\"tender_awarding_date\", \"pkAtmMain\":\"pkAtmMain\"} \n",
    "for f in name_map:\n",
    "    print f,name_map[f]\n",
    "    \n",
    "tender_awards_map = {\"機關代碼\":remove_space, \"機關名稱\":remove_space, \"標案案號\":remove_space, \\\n",
    "                     \"招標方式\":remove_space,\"決標方式\":remove_space,\"標案名稱\":remove_space, \"決標資料類別\":remove_space, \\\n",
    "                     \"標的分類\":remove_space, \"預算金額\":money_conversion, \"開標時間\":date_conversion,\"歸屬計畫類別\":remove_space, \\\n",
    "                        \"總決標金額\":money_conversion,\"底價金額\":money_conversion,\"決標日期\":date_conversion, \"決標公告日期\":date_conversion}    "
   ]
  },
  {
   "cell_type": "code",
   "execution_count": null,
   "metadata": {
    "collapsed": false
   },
   "outputs": [],
   "source": [
    "\n",
    "from bs4 import BeautifulSoup as bs\n",
    "def get_response_element (file_name):\n",
    "    f = open(file_name, 'r')\n",
    "    response_text = f.read()\n",
    "    f.close()\n",
    "    soup = bs(response_text)\n",
    "    tender_table = soup.select('.table_block.tender_table')[0]    #實際上的CLASS物件名稱為table_block tender_table  程式中用空白來代表.\n",
    "    tr = tender_table.select('tr')\n",
    "    return tr"
   ]
  },
  {
   "cell_type": "code",
   "execution_count": null,
   "metadata": {
    "collapsed": false
   },
   "outputs": [],
   "source": [
    "from datetime import datetime\n",
    "import os, sys, re\n",
    "def date_conversion(element):\n",
    "    m = re.match(r\"(\\d+/\\d+/\\d+)\",element)\n",
    "    if m is not None:\n",
    "        t = m.group(1).split('/',1)\n",
    "        if t[0] != '':\n",
    "            return datetime.strptime(str(int(t[0]) + 1911) + '/' + (''.join(t[1:]).split()[0] ),\"%Y/%m/%d\")\n",
    "        else:\n",
    "            return None"
   ]
  },
  {
   "cell_type": "code",
   "execution_count": null,
   "metadata": {
    "collapsed": true
   },
   "outputs": [],
   "source": [
    "def money_conversion(element):\n",
    "    m = re.match(r\"\\$?-?([0-9,]+)[元]?\",element)\n",
    "    return int(''.join(m.group(1).split(',')))"
   ]
  },
  {
   "cell_type": "code",
   "execution_count": 1,
   "metadata": {
    "collapsed": true
   },
   "outputs": [],
   "source": [
    "def get_award_info_dic (element):\n",
    "    returned_dic = {}\n",
    "    for row in element:\n",
    "        th = row.select('th')\n",
    "        if len(th) > 0:\n",
    "            th_name = th[0].text.encode('utf-8').strip()\n",
    "            if ('award_table_tr_1' or \\\n",
    "                'award_table_tr_2' or \\\n",
    "                'award_table_tr_6' in row.get('class')) \\\n",
    "                 and (th_name in tender_awards_map):\n",
    "                returned_dic[name_map[th_name]] = \\\n",
    "                    tender_awards_map[th_name](row.select('td')[0].text.strip())\n",
    "    return returned_dic"
   ]
  },
  {
   "cell_type": "code",
   "execution_count": 3,
   "metadata": {
    "collapsed": false
   },
   "outputs": [
    {
     "ename": "NameError",
     "evalue": "name 'get_response_element' is not defined",
     "output_type": "error",
     "traceback": [
      "\u001b[1;31m---------------------------------------------------------------------------\u001b[0m",
      "\u001b[1;31mNameError\u001b[0m                                 Traceback (most recent call last)",
      "\u001b[1;32m<ipython-input-3-e7fe139ebabc>\u001b[0m in \u001b[0;36m<module>\u001b[1;34m()\u001b[0m\n\u001b[1;32m----> 1\u001b[1;33m \u001b[0mtr_ele\u001b[0m \u001b[1;33m=\u001b[0m  \u001b[0mget_response_element\u001b[0m\u001b[1;33m(\u001b[0m\u001b[1;34m'./gov/51642102_N10409.txt'\u001b[0m\u001b[1;33m)\u001b[0m\u001b[1;33m\u001b[0m\u001b[0m\n\u001b[0m\u001b[0;32m      2\u001b[0m \u001b[0mreturn_dic\u001b[0m \u001b[1;33m=\u001b[0m  \u001b[0mget_award_info_dic\u001b[0m\u001b[1;33m(\u001b[0m\u001b[0mtr_ele\u001b[0m\u001b[1;33m)\u001b[0m\u001b[1;33m\u001b[0m\u001b[0m\n",
      "\u001b[1;31mNameError\u001b[0m: name 'get_response_element' is not defined"
     ]
    }
   ],
   "source": [
    "tr_ele =  get_response_element('./gov/51642102_N10409.txt')\n",
    "return_dic =  get_award_info_dic(tr_ele)"
   ]
  },
  {
   "cell_type": "code",
   "execution_count": null,
   "metadata": {
    "collapsed": true
   },
   "outputs": [],
   "source": []
  }
 ],
 "metadata": {
  "kernelspec": {
   "display_name": "Python 2",
   "language": "python",
   "name": "python2"
  },
  "language_info": {
   "codemirror_mode": {
    "name": "ipython",
    "version": 2
   },
   "file_extension": ".py",
   "mimetype": "text/x-python",
   "name": "python",
   "nbconvert_exporter": "python",
   "pygments_lexer": "ipython2",
   "version": "2.7.10"
  }
 },
 "nbformat": 4,
 "nbformat_minor": 0
}
