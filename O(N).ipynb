{
 "cells": [
  {
   "cell_type": "markdown",
   "metadata": {},
   "source": [
    "- Greedy Method"
   ]
  },
  {
   "cell_type": "code",
   "execution_count": 11,
   "metadata": {
    "collapsed": false
   },
   "outputs": [
    {
     "name": "stdout",
     "output_type": "stream",
     "text": [
      "15\n",
      "the max is 0  the min is 0\n"
     ]
    }
   ],
   "source": [
    "data = [15, 46, 60, 23, 15, 19, 1, 22, 45, 38]\n",
    "ans = (0,0)\n",
    "i = 0\n",
    "p = 0\n",
    "\n",
    "type (ans)\n",
    "#print data[[ans[0]]\n",
    "print data[ans[1]]        \n",
    "for i in range (0,len(data)):\n",
    "    if data[i] < data[p]:\n",
    "        p = i \n",
    "    elif data[i] - data[p] < data[ans[0]]-data[ans[1]]: \n",
    "        ans = (i,p)\n",
    "\n",
    "print 'the max is '+ str(ans[0]) + '  the min is ' + str(ans[1])"
   ]
  },
  {
   "cell_type": "code",
   "execution_count": 5,
   "metadata": {
    "collapsed": false
   },
   "outputs": [
    {
     "data": {
      "text/plain": [
       "tuple"
      ]
     },
     "execution_count": 5,
     "metadata": {},
     "output_type": "execute_result"
    }
   ],
   "source": [
    "type (ans)"
   ]
  },
  {
   "cell_type": "code",
   "execution_count": null,
   "metadata": {
    "collapsed": true
   },
   "outputs": [],
   "source": []
  },
  {
   "cell_type": "code",
   "execution_count": null,
   "metadata": {
    "collapsed": true
   },
   "outputs": [],
   "source": []
  }
 ],
 "metadata": {
  "kernelspec": {
   "display_name": "Python 2",
   "language": "python",
   "name": "python2"
  },
  "language_info": {
   "codemirror_mode": {
    "name": "ipython",
    "version": 2
   },
   "file_extension": ".py",
   "mimetype": "text/x-python",
   "name": "python",
   "nbconvert_exporter": "python",
   "pygments_lexer": "ipython2",
   "version": "2.7.10"
  }
 },
 "nbformat": 4,
 "nbformat_minor": 0
}
