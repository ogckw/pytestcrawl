{
 "cells": [
  {
   "cell_type": "code",
   "execution_count": 4,
   "metadata": {
    "collapsed": false
   },
   "outputs": [],
   "source": [
    "##讀取檔案 取出大表格\n",
    "from bs4 import BeautifulSoup as bs\n",
    "def get_response_element (file_name):\n",
    "    f = open(file_name, 'r')\n",
    "    response_text = f.read()\n",
    "    f.close()\n",
    "    soup = bs(response_text)\n",
    "    tender_table = soup.select('.table_block.tender_table')[0]    #實際上的CLASS物件名稱為table_block tender_table  程式中用空白來代表.\n",
    "    tr = tender_table.select('tr')\n",
    "    return tr"
   ]
  },
  {
   "cell_type": "code",
   "execution_count": 5,
   "metadata": {
    "collapsed": true
   },
   "outputs": [],
   "source": [
    "##轉換時間格式 \n",
    "from datetime import datetime\n",
    "import os, sys, re\n",
    "def date_conversion(element):\n",
    "    m = re.match(r\"(\\d+/\\d+/\\d+)\",element)\n",
    "    if m is not None:\n",
    "        t = m.group(1).split('/',1)\n",
    "        if t[0] != '':\n",
    "            return datetime.strptime(str(int(t[0]) + 1911) + '/' + (''.join(t[1:]).split()[0] ),\"%Y/%m/%d\")\n",
    "        else:\n",
    "            return None"
   ]
  },
  {
   "cell_type": "code",
   "execution_count": 6,
   "metadata": {
    "collapsed": true
   },
   "outputs": [],
   "source": [
    "##取出並轉換金錢格式\n",
    "def money_conversion(element):\n",
    "    m = re.match(r\"\\$?-?([0-9,]+)[元]?\",element)\n",
    "    return int(''.join(m.group(1).split(',')))"
   ]
  },
  {
   "cell_type": "code",
   "execution_count": 7,
   "metadata": {
    "collapsed": true
   },
   "outputs": [],
   "source": [
    "##去掉空白\n",
    "def remove_space(element):\n",
    "    return ''.join(element.split())"
   ]
  },
  {
   "cell_type": "code",
   "execution_count": 8,
   "metadata": {
    "collapsed": false
   },
   "outputs": [],
   "source": [
    "#function map 上述三個方法 只要對應到 就會傳讀入的參數來使用方法\n",
    "name_map = {\"機關代碼\":\"entity_code\", \"機關名稱\":\"procuring_entity\",\"標案案號\":\"job_number\",\"招標方式\":\"procurement_type\",\\\n",
    "            \"決標方式\":\"tender_awarding_type\",\"標案名稱\":\"subject_of_procurement\", \"決標資料類別\":\"attr_of_tender_awarding\", \\\n",
    "            \"標的分類\":\"attr_of_procurement\", \"預算金額\":\"budget_value\", \"開標時間\":\"opening_date\",\"決標公告日期\":\"tender_awarding_announce_date\",\\\n",
    "            \"歸屬計畫類別\":\"project_type\",\"總決標金額\":\"total_tender_awarding_value\",\"底價金額\":\"floor_price_value\",\\\n",
    "            \"決標日期\":\"tender_awarding_date\", \"pkAtmMain\":\"pkAtmMain\"} \n",
    "\n",
    "tender_awards_map = {\"機關代碼\":remove_space, \"機關名稱\":remove_space, \"標案案號\":remove_space, \\\n",
    "                     \"招標方式\":remove_space,\"決標方式\":remove_space,\"標案名稱\":remove_space, \"決標資料類別\":remove_space, \\\n",
    "                     \"標的分類\":remove_space, \"預算金額\":money_conversion, \"開標時間\":date_conversion,\"歸屬計畫類別\":remove_space, \\\n",
    "                        \"總決標金額\":money_conversion,\"底價金額\":money_conversion,\"決標日期\":date_conversion, \"決標公告日期\":date_conversion}    "
   ]
  },
  {
   "cell_type": "code",
   "execution_count": 9,
   "metadata": {
    "collapsed": true
   },
   "outputs": [],
   "source": [
    "##整理整理表格進入字典並轉換為英文名稱 #用上面三個方法清理後塞入資料\n",
    "def get_award_info_dic (element):\n",
    "    returned_dic = {}\n",
    "    for row in element:\n",
    "        th = row.select('th')\n",
    "        if len(th) > 0:\n",
    "            th_name = th[0].text.encode('utf-8').strip()\n",
    "            if ('award_table_tr_1' or \\\n",
    "                'award_table_tr_2' or \\\n",
    "                'award_table_tr_6' in row.get('class')) \\\n",
    "                 and (th_name in tender_awards_map):\n",
    "                returned_dic[name_map[th_name]] = \\\n",
    "                    tender_awards_map[th_name](row.select('td')[0].text.strip())\n",
    "    return returned_dic"
   ]
  },
  {
   "cell_type": "code",
   "execution_count": null,
   "metadata": {
    "collapsed": false
   },
   "outputs": [],
   "source": [
    "tr_ele =  get_response_element('gov/51642102_N10409.txt')\n",
    "return_dic =  get_award_info_dic(tr_ele)"
   ]
  },
  {
   "cell_type": "code",
   "execution_count": null,
   "metadata": {
    "collapsed": false
   },
   "outputs": [],
   "source": [
    "#印出轉換結果\n",
    "for f in return_dic:\n",
    "    print f+' : ' ,return_dic[f]"
   ]
  },
  {
   "cell_type": "code",
   "execution_count": null,
   "metadata": {
    "collapsed": false
   },
   "outputs": [],
   "source": [
    "##資料庫階段\n",
    "import sqlite3\n",
    "db = sqlite3.connect('tender.sqlite')\n",
    "cur = db.cursor()\n",
    "\n"
   ]
  },
  {
   "cell_type": "code",
   "execution_count": null,
   "metadata": {
    "collapsed": true
   },
   "outputs": [],
   "source": [
    "#建立資料庫表格FORMAT\n",
    "cur = db.cursor()\n",
    "cur.execute('''CREATE TABLE IF NOT EXISTS Tender_awards(\n",
    " id INTEGER PRIMARY KEY,\n",
    " pkAtmMain TEXT,\n",
    " procuring_entity TEXT,\n",
    " entity_code TEXT,\n",
    " attr_of_procurement TEXT,\n",
    " opening_date DATETIME,\n",
    " procurement_type TEXT,\n",
    " tender_awarding_type TEXT,\n",
    " project_type TEXT,\n",
    " subject_of_procurement TEXT,\n",
    " job_number TEXT,\n",
    " budget_value BIGINTEGER,\n",
    " attr_of_tender_awarding TEXT,\n",
    " floor_price_value BIGINTEGER,\n",
    " tender_awarding_announce_date DATETIME,\n",
    " tender_awarding_date DATETIME,\n",
    " total_tender_awarding_value BIGINTEGER\n",
    " )''')\n",
    "db.close()"
   ]
  },
  {
   "cell_type": "code",
   "execution_count": null,
   "metadata": {
    "collapsed": false
   },
   "outputs": [],
   "source": [
    "##INSERT DATA 到資料庫的命令打法格式測試\n",
    "placeholders =  ', '.join(return_dic.keys())\n",
    "values =  ', '.join('?' * len(return_dic))\n",
    "\n",
    "skeleton = 'insert into Tender_awards({}) values({});'\n",
    "print skeleton.format(placeholders, values)"
   ]
  },
  {
   "cell_type": "code",
   "execution_count": null,
   "metadata": {
    "collapsed": true
   },
   "outputs": [],
   "source": [
    "## 開始IMPORT資料\n",
    "# -*- coding: utf-8 -*-\n",
    "import sqlite3\n",
    "db = sqlite3.connect('tender.sqlite')\n",
    "cur = db.cursor()\n",
    "tr_ele =  get_response_element('gov/51642102_N10409.txt')\n",
    "return_dic =  get_award_info_dic(tr_ele)\n",
    "placeholders =  ', '.join(return_dic.keys())\n",
    "values =  ', '.join('?' * len(return_dic))\n",
    "\n",
    "skeleton = 'insert into Tender_awards({}) values({});'\n",
    "\n",
    "cur.execute(skeleton.format(placeholders, values), return_dic.values())\n",
    "db.commit()\n",
    "db.close()"
   ]
  },
  {
   "cell_type": "code",
   "execution_count": 10,
   "metadata": {
    "collapsed": true
   },
   "outputs": [],
   "source": [
    "def insert_award_info (cur, data_dic, filename):\n",
    "    file_param = filename.split(\".txt\")[0].split(\"_\")\n",
    "    pkAtmMain = file_param[0]\n",
    "    data_dic['pkAtmMain'] = pkAtmMain\n",
    "    columns = ', '.join(data_dic.keys())\n",
    "    placeholders = ', '.join('?' * len(data_dic))\n",
    "    sql = 'INSERT INTO Tender_awards ({}) VALUES ({})'.format(columns, placeholders)\n",
    "    cur.execute(sql, data_dic.values())"
   ]
  },
  {
   "cell_type": "code",
   "execution_count": null,
   "metadata": {
    "collapsed": false
   },
   "outputs": [],
   "source": [
    "#印出資料夾內的文件\n",
    "db = sqlite3.connect('tender.sqlite')\n",
    "cur = db.cursor()\n",
    "path = \"gov/\"\n",
    "dirs = os.listdir(path) \n",
    "print dirs"
   ]
  },
  {
   "cell_type": "code",
   "execution_count": 11,
   "metadata": {
    "collapsed": false
   },
   "outputs": [
    {
     "name": "stderr",
     "output_type": "stream",
     "text": [
      "c:\\python27\\lib\\site-packages\\bs4\\__init__.py:166: UserWarning: No parser was explicitly specified, so I'm using the best available HTML parser for this system (\"html.parser\"). This usually isn't a problem, but if you run this code on another system, or in a different virtual environment, it may use a different parser and behave differently.\n",
      "\n",
      "To get rid of this warning, change this:\n",
      "\n",
      " BeautifulSoup([your markup])\n",
      "\n",
      "to this:\n",
      "\n",
      " BeautifulSoup([your markup], \"html.parser\")\n",
      "\n",
      "  markup_type=markup_type))\n"
     ]
    }
   ],
   "source": [
    "#彙整上面的DEF式\n",
    "import sqlite3\n",
    "import os\n",
    "#正式用for import資料\n",
    "db = sqlite3.connect('tender.sqlite')\n",
    "cur = db.cursor()\n",
    "path = \"gov/\"\n",
    "dirs = os.listdir(path) \n",
    "for filename in dirs:\n",
    "    ele = get_response_element(path + filename)\n",
    "    award_info_dic = get_award_info_dic(ele)    \n",
    "    insert_award_info(cur, award_info_dic, filename)\n",
    "db.commit()\n",
    "db.close()"
   ]
  },
  {
   "cell_type": "code",
   "execution_count": null,
   "metadata": {
    "collapsed": true
   },
   "outputs": [],
   "source": []
  }
 ],
 "metadata": {
  "kernelspec": {
   "display_name": "Python 2",
   "language": "python",
   "name": "python2"
  },
  "language_info": {
   "codemirror_mode": {
    "name": "ipython",
    "version": 2
   },
   "file_extension": ".py",
   "mimetype": "text/x-python",
   "name": "python",
   "nbconvert_exporter": "python",
   "pygments_lexer": "ipython2",
   "version": "2.7.10"
  }
 },
 "nbformat": 4,
 "nbformat_minor": 0
}
