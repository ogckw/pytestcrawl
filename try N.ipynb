{
 "cells": [
  {
   "cell_type": "code",
   "execution_count": null,
   "metadata": {
    "collapsed": false
   },
   "outputs": [],
   "source": [
    "## control the while true times and try 5 times\n",
    "for i in range (0,10):\n",
    "    while True:\n",
    "        try:\n",
    "            print 4/0\n",
    "            break\n",
    "        except:\n",
    "            i=i+1\n",
    "            print i\n",
    "            if i==5:\n",
    "                break\n",
    "    break\n",
    "print 'stop'"
   ]
  },
  {
   "cell_type": "code",
   "execution_count": 3,
   "metadata": {
    "collapsed": false
   },
   "outputs": [
    {
     "name": "stdout",
     "output_type": "stream",
     "text": [
      "1\n",
      "2\n",
      "3\n",
      "4\n",
      "5\n",
      "stop\n"
     ]
    }
   ],
   "source": [
    "i=0\n",
    "while True:\n",
    "    try:\n",
    "        print 4/0\n",
    "        break\n",
    "    except:\n",
    "        i=i+1\n",
    "        print i\n",
    "        if i==5:\n",
    "            break\n",
    "print 'stop'"
   ]
  },
  {
   "cell_type": "code",
   "execution_count": null,
   "metadata": {
    "collapsed": true
   },
   "outputs": [],
   "source": []
  }
 ],
 "metadata": {
  "kernelspec": {
   "display_name": "Python 2",
   "language": "python",
   "name": "python2"
  },
  "language_info": {
   "codemirror_mode": {
    "name": "ipython",
    "version": 2
   },
   "file_extension": ".py",
   "mimetype": "text/x-python",
   "name": "python",
   "nbconvert_exporter": "python",
   "pygments_lexer": "ipython2",
   "version": "2.7.10"
  }
 },
 "nbformat": 4,
 "nbformat_minor": 0
}
