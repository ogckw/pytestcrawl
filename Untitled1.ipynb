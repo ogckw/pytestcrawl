{
 "cells": [
  {
   "cell_type": "code",
   "execution_count": 57,
   "metadata": {
    "collapsed": false
   },
   "outputs": [
    {
     "name": "stdout",
     "output_type": "stream",
     "text": [
      "\n",
      "update_date\n",
      "update_time\n",
      "qua_id\n",
      "code_name\n",
      "longitude\n",
      "latitude\n",
      "qua_cntu\n",
      "qua_cl\n",
      "qua_ph\n"
     ]
    }
   ],
   "source": [
    "#讀入CSV檔\n",
    "import csv\n",
    "#column 欄位取出\n",
    "with open('water.csv', 'rb') as csvfile:\n",
    "    reader = csv.reader(csvfile)\n",
    "    for column in reader.next():\n",
    "        print column\n"
   ]
  },
  {
   "cell_type": "code",
   "execution_count": 58,
   "metadata": {
    "collapsed": false
   },
   "outputs": [],
   "source": [
    "##資料庫階段\n",
    "import sqlite3\n",
    "db = sqlite3.connect('tender.sqlite')\n",
    "cur = db.cursor()\n",
    "#建立資料庫表格FORMAT\n",
    "cur = db.cursor()\n",
    "cur.execute('''CREATE TABLE IF NOT EXISTS water(\n",
    " id INTEGER PRIMARY KEY,\n",
    " update_date TEXT,\n",
    " update_time TEXT,\n",
    " qua_id TEXT,\n",
    " code_name TEXT,\n",
    " longitude REAL,\n",
    " latitude REAL,\n",
    " qua_cntu REAL,\n",
    " qua_cl REAL,\n",
    " qua_ph REAL\n",
    " )''')\n",
    "db.close()"
   ]
  },
  {
   "cell_type": "code",
   "execution_count": null,
   "metadata": {
    "collapsed": true
   },
   "outputs": [],
   "source": []
  }
 ],
 "metadata": {
  "kernelspec": {
   "display_name": "Python 2",
   "language": "python",
   "name": "python2"
  },
  "language_info": {
   "codemirror_mode": {
    "name": "ipython",
    "version": 2
   },
   "file_extension": ".py",
   "mimetype": "text/x-python",
   "name": "python",
   "nbconvert_exporter": "python",
   "pygments_lexer": "ipython2",
   "version": "2.7.10"
  }
 },
 "nbformat": 4,
 "nbformat_minor": 0
}
