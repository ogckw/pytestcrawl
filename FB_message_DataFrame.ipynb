{
 "cells": [
  {
   "cell_type": "code",
   "execution_count": 1,
   "metadata": {
    "collapsed": false
   },
   "outputs": [
    {
     "ename": "KeyError",
     "evalue": "'data'",
     "output_type": "error",
     "traceback": [
      "\u001b[1;31m---------------------------------------------------------------------------\u001b[0m",
      "\u001b[1;31mKeyError\u001b[0m                                  Traceback (most recent call last)",
      "\u001b[1;32m<ipython-input-1-b48c684a38e6>\u001b[0m in \u001b[0;36m<module>\u001b[1;34m()\u001b[0m\n\u001b[0;32m     17\u001b[0m \u001b[1;32mimport\u001b[0m \u001b[0mjson\u001b[0m\u001b[1;33m\u001b[0m\u001b[0m\n\u001b[0;32m     18\u001b[0m \u001b[0mposts\u001b[0m \u001b[1;33m=\u001b[0m  \u001b[0mjson\u001b[0m\u001b[1;33m.\u001b[0m\u001b[0mloads\u001b[0m\u001b[1;33m(\u001b[0m\u001b[0mres\u001b[0m\u001b[1;33m.\u001b[0m\u001b[0mtext\u001b[0m\u001b[1;33m)\u001b[0m\u001b[1;33m\u001b[0m\u001b[0m\n\u001b[1;32m---> 19\u001b[1;33m \u001b[1;32mfor\u001b[0m \u001b[0mpost\u001b[0m \u001b[1;32min\u001b[0m \u001b[0mposts\u001b[0m\u001b[1;33m[\u001b[0m\u001b[1;34m'data'\u001b[0m\u001b[1;33m]\u001b[0m\u001b[1;33m:\u001b[0m\u001b[1;33m\u001b[0m\u001b[0m\n\u001b[0m\u001b[0;32m     20\u001b[0m     \u001b[1;32mprint\u001b[0m \u001b[0mpost\u001b[0m\u001b[1;33m[\u001b[0m\u001b[1;34m'likes'\u001b[0m\u001b[1;33m]\u001b[0m\u001b[1;33m[\u001b[0m\u001b[1;34m'summary'\u001b[0m\u001b[1;33m]\u001b[0m\u001b[1;33m[\u001b[0m\u001b[1;34m'total_count'\u001b[0m\u001b[1;33m]\u001b[0m\u001b[1;33m\u001b[0m\u001b[0m\n\u001b[0;32m     21\u001b[0m     \u001b[1;32mprint\u001b[0m \u001b[0mpost\u001b[0m\u001b[1;33m[\u001b[0m\u001b[1;34m'message'\u001b[0m\u001b[1;33m]\u001b[0m\u001b[1;33m\u001b[0m\u001b[0m\n",
      "\u001b[1;31mKeyError\u001b[0m: 'data'"
     ]
    }
   ],
   "source": [
    "###### 爬蟲 9: FB粉絲團留言 + 按讚數 + 留言\n",
    "import requests\n",
    "## 1:進入 https://developers.facebook.com/tools/explorer/\n",
    "## 2:取得 Access_token --> Get Page token\n",
    "## 3.開 F12 找 name= *access_token\n",
    "## 4.Graph API 從左欄位選資訊 --> copy header or 修改 url: +%2c... \n",
    "ACCESSTOKEN = 'CAACEdEose0cBAL1FqIPa1RaZBz3EFaWm3HO4YFlN2qWzneQ9GHuea3ZCVyuAnB1P0Bf2e9ygvy6ZCoCygGCxfkjimxfgtIkn8mUPrw67QDOlLqzLzAIIzGlOga5lIePIr47PXmkJLJ3AkZADWDPGZAILydfwLVneBZBoePMaS9GrWK2tKYM5TZCEZAUA3CTeCpbq00i3syOAJLT3AI60zlxH'\n",
    "res = requests.get('https://graph.facebook.com/v2.4/DoctorKoWJ/posts?access_token={}&debug=all&fields=id%2Cmessage%2Clikes.summary(1)&format=json&method=get&pretty=0&suppress_http_code=1'.format(ACCESSTOKEN))\n",
    "#print res.text\n",
    "#Graph API/DoctorKoWJ?fields=posts\n",
    "#https://graph.facebook.com/v2.4/DoctorKoWJ?access_token={}&debug=all&fields=posts&format=json&method=get&pretty=0&suppress_http_code=1\n",
    "#Graph API/DoctorKoWJ/posts?fields=id,message,likes.summary(1)\n",
    "#https://graph.facebook.com/v2.4/DoctorKoWJ/posts?access_token={}&debug=all&fields=id%2Cmessage%2clikes.summary(1)&format=json&method=get&pretty=0&suppress_http_code=1\n",
    "\n",
    "## FB 抓下來是 json file\n",
    "## ['data'] 表示抓到 \"data\" : [{.......}] ; ['data']['likes'] --> \"data\" : [{\"Likes:{....}\",,,,}]\n",
    "import json\n",
    "posts =  json.loads(res.text)\n",
    "for post in posts['data']:\n",
    "    print post['likes']['summary']['total_count']\n",
    "    print post['message']"
   ]
  },
  {
   "cell_type": "code",
   "execution_count": null,
   "metadata": {
    "collapsed": true
   },
   "outputs": [],
   "source": [
    "#### 整理成 DataFrame\n",
    "import requests\n",
    "ACCESSTOKEN = 'CAACEdEose0cBAB5HYO0mqJL9E1zZCdM2paxotrpHZAezQZBidaZBluWtBOPmnKZBrdE5YJvzCWM6HfEibWfdqRxOJBvtQ1nuDo9E1XRFWvnXN0IWEpcOYfZCgNMzsTCXFmhZBjTJZAnIHOZCa63YNqACE6zBaEjFAdYD9WLWh3MIiNw8NHm7yfobcJ10Hf9WWG5RqZBBNqYPqyyZCK0UolZCk3g1'\n",
    "res = requests.get('https://graph.facebook.com/v2.4/DoctorKoWJ/posts?access_token={}&debug=all&fields=id%2Cmessage%2clikes.summary(1)%2ccreated_time%2Ccomments&format=json&method=get&pretty=0&suppress_http_code=1'.format(ACCESSTOKEN))\n",
    "#print res.text\n",
    "#Graph API/DoctorKoWJ?fields=posts\n",
    "#https://graph.facebook.com/v2.4/DoctorKoWJ?access_token={}&debug=all&fields=posts&format=json&method=get&pretty=0&suppress_http_code=1\n",
    "#Graph API/DoctorKoWJ/posts?fields=id,message,likes.summary(1)\n",
    "#https://graph.facebook.com/v2.4/DoctorKoWJ/posts?access_token={}&debug=all&fields=id%2Cmessage%2clikes.summary(1)%2ccreated_time%2Ccomments&format=json&method=get&pretty=0&suppress_http_code=1\n",
    "import json\n",
    "mess_ary=[]\n",
    "comm_ary=[]\n",
    "count1=0\n",
    "count2=0\n",
    "posts =  json.loads(res.text)\n",
    "#print posts\n",
    "for post in posts['data']:\n",
    "    count1 += 1\n",
    "    #print post['created_time']\n",
    "    #print post['likes']['summary']['total_count']\n",
    "    #print post['message']\n",
    "    mess_ary.append({\n",
    "            \"索引號1\":count1,\n",
    "            \"時間\":post['created_time'],\n",
    "            \"按讚數\":post['likes']['summary']['total_count'],\n",
    "            \"文章\":post['message'].strip()\n",
    "        })\n",
    "    for comments in post['comments']['data']:    # comments 是 post['comments']['data']陣列內的元素, 利用 get取得\n",
    "        count2 += 1\n",
    "        #print comments.get('created_time')\n",
    "        #print comments.get('message')\n",
    "        comm_ary.append({\n",
    "                \"索引號1\":count1,\n",
    "                \"索引號2\":count2,\n",
    "                \"時間\":comments.get('created_time'),\n",
    "                \"留言\":comments.get('message').strip()\n",
    "            })        \n",
    "    #print post['comments']['data'][0]['message']\n",
    "    #print post['comments']['data'][1]['message']\n",
    "\n",
    "import pandas as pd\n",
    "mess = pd.DataFrame(mess_ary) \n",
    "comm = pd.DataFrame(comm_ary) \n",
    "mess\n",
    "comm\n",
    "#########################################################################"
   ]
  }
 ],
 "metadata": {
  "kernelspec": {
   "display_name": "Python 2",
   "language": "python",
   "name": "python2"
  },
  "language_info": {
   "codemirror_mode": {
    "name": "ipython",
    "version": 2
   },
   "file_extension": ".py",
   "mimetype": "text/x-python",
   "name": "python",
   "nbconvert_exporter": "python",
   "pygments_lexer": "ipython2",
   "version": "2.7.10"
  }
 },
 "nbformat": 4,
 "nbformat_minor": 0
}
