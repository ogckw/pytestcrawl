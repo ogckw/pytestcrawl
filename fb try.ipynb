{
 "cells": [
  {
   "cell_type": "markdown",
   "metadata": {},
   "source": [
    "- 士林區\n",
    "   \n",
    "   https://www.facebook.com/groups/583825955010322/?fref=ts\n",
    "   \n",
    "   https://www.facebook.com/pages/%E5%A3%AB%E6%9E%97%E5%A4%9C%E5%B8%82/162736400406103?ref=br_rs\n",
    "   \n",
    "\n",
    "- 北投區\n",
    "   \n",
    "   https://www.facebook.com/Beitoucitizens?ref=br_rs\n",
    "   \n",
    "   https://www.facebook.com/groups/2260928366/?ref=ts&fref=ts\n",
    "   \n",
    "   \n"
   ]
  },
  {
   "cell_type": "code",
   "execution_count": null,
   "metadata": {
    "collapsed": true
   },
   "outputs": [],
   "source": []
  }
 ],
 "metadata": {
  "kernelspec": {
   "display_name": "Python 2",
   "language": "python",
   "name": "python2"
  },
  "language_info": {
   "codemirror_mode": {
    "name": "ipython",
    "version": 2
   },
   "file_extension": ".py",
   "mimetype": "text/x-python",
   "name": "python",
   "nbconvert_exporter": "python",
   "pygments_lexer": "ipython2",
   "version": "2.7.10"
  }
 },
 "nbformat": 4,
 "nbformat_minor": 0
}
