{
 "cells": [
  {
   "cell_type": "code",
   "execution_count": null,
   "metadata": {
    "collapsed": true
   },
   "outputs": [],
   "source": [
    "from selenium import webdriver\n",
    "from bs4 import BeautifulSoup as bs \n",
    "import requests\n",
    "import shutil\n",
    "import time \n",
    "import random\n",
    "\n",
    "\n",
    "#use selenium to get full source code in img\n",
    "driver = webdriver.Firefox()\n",
    "driver.get(\"http://www.comicvip.com/show/cool-103.html?ch=796-1\")\n",
    "\n",
    "#get the hole page at one chapter\n",
    "soup0 = driver.page_source\n",
    "soup0 = bs(soup0)\n",
    "pagenum = soup0.select('#pagenum')[0].text\n",
    "page = pagenum.split('/')[1]\n",
    "\n",
    "fp = page.strip(u'\\u9801')\n",
    "fp = int(fp)\n",
    "driver.close()\n",
    "\n",
    "#start to get comic by loop\n",
    "for i in range (1,fp+1):\n",
    "    driver2 = webdriver.Firefox()\n",
    "    driver2.implicitly_wait(5) # seconds\n",
    "    driver2.get(\"http://www.comicvip.com/show/cool-103.html?ch=796-{}\".format(i))\n",
    "    soup=bs(driver2.page_source)\n",
    "    driver2.close()\n",
    "    soup2 = soup.select('#TheImg')[0].get('src')\n",
    "    #Making a fake headers by loop because the \"Referer\" will change by page.  \n",
    "    headers = {\n",
    "    'Accept':'image/webp,image/*,*/*;q=0.8',\n",
    "    'Accept-Encoding':'gzip, deflate, sdch',\n",
    "    'Accept-Language':'zh-TW,zh;q=0.8,en-US;q=0.6,en;q=0.4',\n",
    "    'Connection':'keep-alive',\n",
    "    'Host':'img3.6comic.com:99',\n",
    "    'Referer':'http://www.comicvip.com/show/cool-103.html?ch=796-'+str(i),\n",
    "    'User-Agent':'Mozilla/5.0 (Windows NT 6.1; WOW64) AppleWebKit/537.36 (KHTML, like Gecko) Chrome/45.0.2454.85 Safari/537.36' \n",
    "    }\n",
    "    response = requests.get(soup2, headers = headers, stream=True ,timeout=5)\n",
    "    with open('D:/comic/0{}.jpg'.format(i), 'wb') as f:\n",
    "        shutil.copyfileobj(response.raw, f)\n",
    "        print 'D:/comic/0{}.jpg'.format(i)   \n",
    "    response.close()\n",
    "    del response\n",
    "    ran = int(random.random()*5)+1  ## random second to gentle crawl I don't want to make the website shutdown\n",
    "    print 'Random sleep time , this loop is going to sleep ' + str(ran) + ' seconds'\n",
    "    time.sleep(ran)\n",
    "print '------------------------------------------------'\n",
    "print 'Downloads are all Finished, congratulations!'"
   ]
  }
 ],
 "metadata": {
  "kernelspec": {
   "display_name": "Python 2",
   "language": "python",
   "name": "python2"
  },
  "language_info": {
   "codemirror_mode": {
    "name": "ipython",
    "version": 2
   },
   "file_extension": ".py",
   "mimetype": "text/x-python",
   "name": "python",
   "nbconvert_exporter": "python",
   "pygments_lexer": "ipython2",
   "version": "2.7.10"
  }
 },
 "nbformat": 4,
 "nbformat_minor": 0
}
