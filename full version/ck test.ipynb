{
 "cells": [
  {
   "cell_type": "code",
   "execution_count": 77,
   "metadata": {
    "collapsed": false
   },
   "outputs": [],
   "source": [
    "#ck crawl novel\n",
    "import requests\n",
    "\n",
    "headers= {\n",
    "    'User-Agent':'Mozilla/5.0 (Windows NT 6.1; WOW64) AppleWebKit/537.36 (KHTML, like Gecko) Chrome/45.0.2454.93 Safari/537.36'\n",
    "}\n",
    "\n",
    "\n",
    "res = requests.get('http://ck101.com/thread-1319695-1-225.html',headers = headers)\n",
    "\n",
    "\n"
   ]
  },
  {
   "cell_type": "code",
   "execution_count": 60,
   "metadata": {
    "collapsed": false
   },
   "outputs": [],
   "source": [
    "def makedic(res):\n",
    "    from bs4 import  BeautifulSoup as bs\n",
    "    soup = bs(res.text)\n",
    "    dic ={}\n",
    "    #print soup.select('.titleBox a')\n",
    "    #print and make a key and value\n",
    "    for a in soup.select('.titleBox'):\n",
    "        if a.select('a')[1].get('title') is not None:\n",
    "            print  a.select('a')[1].get('href')\n",
    "            print  a.select('a')[1].get('title')\n",
    "            dic[a.select('a')[1].get('title')] = a.select('a')[1].get('href')\n",
    "    return dic\n",
    "        "
   ]
  },
  {
   "cell_type": "code",
   "execution_count": 61,
   "metadata": {
    "collapsed": false
   },
   "outputs": [
    {
     "name": "stdout",
     "output_type": "stream",
     "text": [
      "http://ck101.com/thread-2874564-1-1.html\n",
      "[遊戲異界] 箭皇   作者：死翼耐薩里奧(連載中)\n",
      "http://ck101.com/thread-3298451-1-1.html\n",
      "[異界大陸] 聖人門徒 作者：寂寞讀南華 (連載中)\n",
      "http://ck101.com/thread-3021052-1-1.html\n",
      "[都市風雲 / 異術超能] 都市藏真 作者：瘋神狂想 (連載中)\n",
      "http://ck101.com/thread-3362126-1-1.html\n",
      "[都市風雲 / 異術超能] 執掌龍宮 作者:敖夜\n",
      "http://ck101.com/thread-2787632-1-1.html\n",
      "[奇幻修真]青帝 作者：荊柯守(連載中)\n",
      "http://ck101.com/thread-2969617-1-1.html\n",
      "[東方玄幻]   諸天萬界   作者：蝦米XL   (連載中)\n",
      "http://ck101.com/thread-2911483-1-1.html\n",
      "劍動山河  作者:開荒【姜幻】  (連載中)\n",
      "http://ck101.com/thread-2852347-1-1.html\n",
      "[奇幻修真] 魔天記 作者：忘語 (連載中)\n",
      "http://ck101.com/thread-3043280-1-1.html\n",
      "[遊戲異界]死神逃學日記  作者：不可沽名學霸王(連載中)\n",
      "http://ck101.com/thread-2918023-1-1.html\n",
      "[西方奇幻]   魔法塔   作者 : 杜二   (連載中)\n"
     ]
    },
    {
     "data": {
      "text/plain": [
       "{u'[\\u5947\\u5e7b\\u4fee\\u771f] \\u9b54\\u5929\\u8a18 \\u4f5c\\u8005\\uff1a\\u5fd8\\u8a9e (\\u9023\\u8f09\\u4e2d)': u'http://ck101.com/thread-2852347-1-1.html',\n",
       " u'[\\u5947\\u5e7b\\u4fee\\u771f]\\u9752\\u5e1d \\u4f5c\\u8005\\uff1a\\u834a\\u67ef\\u5b88(\\u9023\\u8f09\\u4e2d)': u'http://ck101.com/thread-2787632-1-1.html',\n",
       " u'[\\u6771\\u65b9\\u7384\\u5e7b]   \\u8af8\\u5929\\u842c\\u754c   \\u4f5c\\u8005\\uff1a\\u8766\\u7c73XL   (\\u9023\\u8f09\\u4e2d)': u'http://ck101.com/thread-2969617-1-1.html',\n",
       " u'[\\u7570\\u754c\\u5927\\u9678] \\u8056\\u4eba\\u9580\\u5f92 \\u4f5c\\u8005\\uff1a\\u5bc2\\u5bde\\u8b80\\u5357\\u83ef (\\u9023\\u8f09\\u4e2d)': u'http://ck101.com/thread-3298451-1-1.html',\n",
       " u'[\\u897f\\u65b9\\u5947\\u5e7b]   \\u9b54\\u6cd5\\u5854   \\u4f5c\\u8005 : \\u675c\\u4e8c   (\\u9023\\u8f09\\u4e2d)': u'http://ck101.com/thread-2918023-1-1.html',\n",
       " u'[\\u904a\\u6232\\u7570\\u754c] \\u7bad\\u7687   \\u4f5c\\u8005\\uff1a\\u6b7b\\u7ffc\\u8010\\u85a9\\u91cc\\u5967(\\u9023\\u8f09\\u4e2d)': u'http://ck101.com/thread-2874564-1-1.html',\n",
       " u'[\\u904a\\u6232\\u7570\\u754c]\\u6b7b\\u795e\\u9003\\u5b78\\u65e5\\u8a18  \\u4f5c\\u8005\\uff1a\\u4e0d\\u53ef\\u6cbd\\u540d\\u5b78\\u9738\\u738b(\\u9023\\u8f09\\u4e2d)': u'http://ck101.com/thread-3043280-1-1.html',\n",
       " u'[\\u90fd\\u5e02\\u98a8\\u96f2 / \\u7570\\u8853\\u8d85\\u80fd] \\u57f7\\u638c\\u9f8d\\u5bae \\u4f5c\\u8005:\\u6556\\u591c': u'http://ck101.com/thread-3362126-1-1.html',\n",
       " u'[\\u90fd\\u5e02\\u98a8\\u96f2 / \\u7570\\u8853\\u8d85\\u80fd] \\u90fd\\u5e02\\u85cf\\u771f \\u4f5c\\u8005\\uff1a\\u760b\\u795e\\u72c2\\u60f3 (\\u9023\\u8f09\\u4e2d)': u'http://ck101.com/thread-3021052-1-1.html',\n",
       " u'\\u528d\\u52d5\\u5c71\\u6cb3  \\u4f5c\\u8005:\\u958b\\u8352\\u3010\\u59dc\\u5e7b\\u3011  (\\u9023\\u8f09\\u4e2d)': u'http://ck101.com/thread-2911483-1-1.html'}"
      ]
     },
     "execution_count": 61,
     "metadata": {},
     "output_type": "execute_result"
    }
   ],
   "source": [
    "makedic(res)"
   ]
  },
  {
   "cell_type": "code",
   "execution_count": 184,
   "metadata": {
    "collapsed": false
   },
   "outputs": [
    {
     "name": "stdout",
     "output_type": "stream",
     "text": [
      "\n",
      "2008-8-16 09:09\n",
      "查看 14441\n",
      "|\n",
      "回覆 12\n",
      "|\n",
      "感謝 5\n",
      "\n"
     ]
    }
   ],
   "source": [
    "from bs4 import  BeautifulSoup as bs\n",
    "soup = bs(res.text)\n",
    "\n",
    "sp = soup.select('.authMsg')[0]\n",
    "\n",
    "print sp.text\n",
    "sp = sp.text.encode('utf8')\n",
    "#for k in soup.select('.darkTxt'):\n",
    "#   print k   "
   ]
  },
  {
   "cell_type": "code",
   "execution_count": 185,
   "metadata": {
    "collapsed": false
   },
   "outputs": [],
   "source": [
    "sp2 = sp.split()"
   ]
  },
  {
   "cell_type": "code",
   "execution_count": 186,
   "metadata": {
    "collapsed": false
   },
   "outputs": [
    {
     "name": "stdout",
     "output_type": "stream",
     "text": [
      "查看 14441 感謝 5\n"
     ]
    },
    {
     "data": {
      "text/plain": [
       "str"
      ]
     },
     "execution_count": 186,
     "metadata": {},
     "output_type": "execute_result"
    }
   ],
   "source": [
    "print sp2[2],sp2[3],sp2[8],sp2[9]\n",
    "type(sp2[2])\n"
   ]
  },
  {
   "cell_type": "code",
   "execution_count": 187,
   "metadata": {
    "collapsed": false
   },
   "outputs": [
    {
     "name": "stdout",
     "output_type": "stream",
     "text": [
      "[仙俠]  青城門徒  作者：普道 (連載中)\n"
     ]
    }
   ],
   "source": [
    "print soup.select('#thread_subject')[0].text"
   ]
  },
  {
   "cell_type": "code",
   "execution_count": 202,
   "metadata": {
    "collapsed": false
   },
   "outputs": [
    {
     "name": "stdout",
     "output_type": "stream",
     "text": [
      "查看\n",
      "watch: 14441\n"
     ]
    }
   ],
   "source": [
    "dic = {}\n",
    "fuc_map = {'查看':'watch','感謝':'thanks'}\n",
    "name_map = {'查看':'','感謝':''}\n",
    "print sp2[2]\n",
    "if sp2[2] in name_map:\n",
    "    dic[fuc_map['查看']] = sp2[3]\n",
    "    \n",
    "for f in dic:\n",
    "    print f +':', dic['watch']"
   ]
  },
  {
   "cell_type": "code",
   "execution_count": null,
   "metadata": {
    "collapsed": true
   },
   "outputs": [],
   "source": []
  }
 ],
 "metadata": {
  "kernelspec": {
   "display_name": "Python 2",
   "language": "python",
   "name": "python2"
  },
  "language_info": {
   "codemirror_mode": {
    "name": "ipython",
    "version": 2
   },
   "file_extension": ".py",
   "mimetype": "text/x-python",
   "name": "python",
   "nbconvert_exporter": "python",
   "pygments_lexer": "ipython2",
   "version": "2.7.10"
  }
 },
 "nbformat": 4,
 "nbformat_minor": 0
}
