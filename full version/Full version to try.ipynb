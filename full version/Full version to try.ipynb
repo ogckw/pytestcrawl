{
 "cells": [
  {
   "cell_type": "markdown",
   "metadata": {},
   "source": [
    "- #  Take comic "
   ]
  },
  {
   "cell_type": "code",
   "execution_count": 7,
   "metadata": {
    "collapsed": false
   },
   "outputs": [
    {
     "name": "stdout",
     "output_type": "stream",
     "text": [
      "E:/data/01.jpg\n",
      "E:/data/02.jpg\n",
      "E:/data/03.jpg\n",
      "E:/data/04.jpg\n",
      "E:/data/05.jpg\n",
      "E:/data/06.jpg\n",
      "E:/data/07.jpg\n",
      "E:/data/08.jpg\n",
      "E:/data/09.jpg\n",
      "E:/data/010.jpg\n",
      "E:/data/011.jpg\n",
      "E:/data/012.jpg\n",
      "E:/data/013.jpg\n",
      "E:/data/014.jpg\n",
      "E:/data/015.jpg\n",
      "E:/data/016.jpg\n",
      "E:/data/017.jpg\n",
      "E:/data/018.jpg\n",
      "E:/data/019.jpg\n",
      "E:/data/020.jpg\n",
      "E:/data/021.jpg\n",
      "start sleep 5secs\n",
      "do the same response again\n",
      "random time this loop is 6 seconds\n",
      "start sleep 5secs\n",
      "do the same response again\n",
      "random time this loop is 14 seconds\n",
      "start sleep 5secs\n",
      "do the same response again\n",
      "random time this loop is 14 seconds\n",
      "start sleep 5secs\n",
      "do the same response again\n",
      "we try 4 times stop~_~\n",
      "start sleep 5secs\n",
      "do the same response again\n",
      "random time this loop is 8 seconds\n",
      "start sleep 5secs\n",
      "do the same response again\n",
      "random time this loop is 7 seconds\n",
      "start sleep 5secs\n",
      "do the same response again\n",
      "random time this loop is 15 seconds\n",
      "start sleep 5secs\n",
      "do the same response again\n",
      "we try 4 times stop~_~\n",
      "donwload has finished\n"
     ]
    }
   ],
   "source": [
    "## get certain page for pic\n",
    "## get and download the pic\n",
    "import requests\n",
    "import shutil\n",
    "import time \n",
    "import random\n",
    "from bs4 import BeautifulSoup as bs \n",
    "\n",
    "headers  = {'User-Agent':'Mozilla/5.0 (Windows NT 6.1; WOW64) AppleWebKit/537.36 (KHTML, like Gecko) Chrome/44.0.2403.262 Safari/537.36'}\n",
    "res = requests.get('http://ck101.com/thread-3129396-1-1.html', headers = headers)\n",
    "soup = bs(res.text)\n",
    "\n",
    "count = 1\n",
    "\n",
    "for img in soup.select('img'):\n",
    "    fname = img.get('file')  \n",
    "    if fname is not None:\n",
    "        name =  fname.split('/')[-1]\n",
    "        # for fail get data so we start try 4 times\n",
    "        trys = 0   \n",
    "        while True:\n",
    "            \n",
    "            try:\n",
    "                response = requests.get(fname, headers = headers, stream=True,timeout=5)  #'timeout=5' add this for prevent from failing\n",
    "                with open('E:/data/0{}.jpg'.format(count), 'wb') as f:\n",
    "                    shutil.copyfileobj(response.raw, f)\n",
    "                    print 'E:/data/0{}.jpg'.format(count)\n",
    "                response.close()\n",
    "                del response\n",
    "                count = count + 1\n",
    "                break\n",
    "            except:\n",
    "                trys = trys+1\n",
    "                print 'start sleep 5secs'\n",
    "                time.sleep(5)\n",
    "                print 'do the same response again'\n",
    "                if trys==4:\n",
    "                    print 'we try ' + str(trys) +' times stop~_~'\n",
    "                    break                   \n",
    "            \n",
    "        ran = int(random.random()*10)+1  ## random second to gentle\n",
    "        print 'random time this loop is ' + str(ran) + ' seconds'\n",
    "        time.sleep(ran)\n",
    "print 'donwload has finished'\n"
   ]
  },
  {
   "cell_type": "code",
   "execution_count": 1,
   "metadata": {
    "collapsed": false
   },
   "outputs": [
    {
     "name": "stderr",
     "output_type": "stream",
     "text": [
      "c:\\python27\\lib\\site-packages\\bs4\\__init__.py:166: UserWarning: No parser was explicitly specified, so I'm using the best available HTML parser for this system (\"html.parser\"). This usually isn't a problem, but if you run this code on another system, or in a different virtual environment, it may use a different parser and behave differently.\n",
      "\n",
      "To get rid of this warning, change this:\n",
      "\n",
      " BeautifulSoup([your markup])\n",
      "\n",
      "to this:\n",
      "\n",
      " BeautifulSoup([your markup], \"html.parser\")\n",
      "\n",
      "  markup_type=markup_type))\n"
     ]
    }
   ],
   "source": [
    "import requests\n",
    "import shutil\n",
    "import time \n",
    "import random\n",
    "from bs4 import BeautifulSoup as bs \n",
    "\n",
    "headers  = {'User-Agent':'Mozilla/5.0 (Windows NT 6.1; WOW64) AppleWebKit/537.36 (KHTML, like Gecko) Chrome/44.0.2403.262 Safari/537.36'}\n",
    "res = requests.get('http://ck101.com', headers = headers)\n",
    "\n",
    "soup = bs(res.text)\n"
   ]
  },
  {
   "cell_type": "code",
   "execution_count": 2,
   "metadata": {
    "collapsed": false
   },
   "outputs": [
    {
     "name": "stdout",
     "output_type": "stream",
     "text": [
      "<Response [200]>\n"
     ]
    }
   ],
   "source": [
    "print res"
   ]
  },
  {
   "cell_type": "code",
   "execution_count": null,
   "metadata": {
    "collapsed": true
   },
   "outputs": [],
   "source": []
  }
 ],
 "metadata": {
  "kernelspec": {
   "display_name": "Python 2",
   "language": "python",
   "name": "python2"
  },
  "language_info": {
   "codemirror_mode": {
    "name": "ipython",
    "version": 2
   },
   "file_extension": ".py",
   "mimetype": "text/x-python",
   "name": "python",
   "nbconvert_exporter": "python",
   "pygments_lexer": "ipython2",
   "version": "2.7.10"
  }
 },
 "nbformat": 4,
 "nbformat_minor": 0
}
