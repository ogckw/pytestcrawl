{
 "cells": [
  {
   "cell_type": "code",
   "execution_count": 5,
   "metadata": {
    "collapsed": false
   },
   "outputs": [
    {
     "name": "stdout",
     "output_type": "stream",
     "text": [
      "aaa\n",
      "sleep 5 secs\n",
      "bbb\n"
     ]
    }
   ],
   "source": [
    "#if sys.stdout.flush() there will be print aaa sleep 5 secs bbb one time because memory buffered\n",
    "import sys\n",
    "import time\n",
    "sys.stdout.flush()\n",
    "\n",
    "print 'aaa'\n",
    "sys.stdout.flush()\n",
    "time.sleep(5)\n",
    "sys.stdout.flush()\n",
    "print 'sleep 5 secs'\n",
    "sys.stdout.flush()\n",
    "print 'bbb'"
   ]
  },
  {
   "cell_type": "markdown",
   "metadata": {},
   "source": [
    "# buffered I/O vs unbuffered IO\n",
    "- http://stackoverflow.com/questions/1450551/buffered-i-o-vs-unbuffered-io\n",
    "\n"
   ]
  },
  {
   "cell_type": "code",
   "execution_count": null,
   "metadata": {
    "collapsed": true
   },
   "outputs": [],
   "source": []
  }
 ],
 "metadata": {
  "kernelspec": {
   "display_name": "Python 2",
   "language": "python",
   "name": "python2"
  },
  "language_info": {
   "codemirror_mode": {
    "name": "ipython",
    "version": 2
   },
   "file_extension": ".py",
   "mimetype": "text/x-python",
   "name": "python",
   "nbconvert_exporter": "python",
   "pygments_lexer": "ipython2",
   "version": "2.7.10"
  }
 },
 "nbformat": 4,
 "nbformat_minor": 0
}
