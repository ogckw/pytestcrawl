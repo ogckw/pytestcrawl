{
 "cells": [
  {
   "cell_type": "code",
   "execution_count": 1,
   "metadata": {
    "collapsed": false
   },
   "outputs": [
    {
     "name": "stdout",
     "output_type": "stream",
     "text": [
      "hello world\n"
     ]
    }
   ],
   "source": [
    "print 'hello world'"
   ]
  },
  {
   "cell_type": "code",
   "execution_count": 2,
   "metadata": {
    "collapsed": false
   },
   "outputs": [
    {
     "name": "stderr",
     "output_type": "stream",
     "text": [
      "c:\\python27\\lib\\site-packages\\requests\\packages\\urllib3\\connectionpool.py:768: InsecureRequestWarning: Unverified HTTPS request is being made. Adding certificate verification is strongly advised. See: https://urllib3.readthedocs.org/en/latest/security.html\n",
      "  InsecureRequestWarning)\n",
      "c:\\python27\\lib\\site-packages\\bs4\\__init__.py:166: UserWarning: No parser was explicitly specified, so I'm using the best available HTML parser for this system (\"html.parser\"). This usually isn't a problem, but if you run this code on another system, or in a different virtual environment, it may use a different parser and behave differently.\n",
      "\n",
      "To get rid of this warning, change this:\n",
      "\n",
      " BeautifulSoup([your markup])\n",
      "\n",
      "to this:\n",
      "\n",
      " BeautifulSoup([your markup], \"html.parser\")\n",
      "\n",
      "  markup_type=markup_type))\n",
      "Building prefix dict from c:\\python27\\lib\\site-packages\\jieba\\dict.txt ...\n",
      "DEBUG:jieba:Building prefix dict from c:\\python27\\lib\\site-packages\\jieba\\dict.txt ...\n",
      "Loading model from cache c:\\users\\bigdata\\appdata\\local\\temp\\jieba.cache\n",
      "DEBUG:jieba:Loading model from cache c:\\users\\bigdata\\appdata\\local\\temp\\jieba.cache\n",
      "Loading model cost 0.528 seconds.\n",
      "DEBUG:jieba:Loading model cost 0.528 seconds.\n",
      "Prefix dict has been built succesfully.\n",
      "DEBUG:jieba:Prefix dict has been built succesfully.\n"
     ]
    },
    {
     "name": "stdout",
     "output_type": "stream",
     "text": [
      "　1\n",
      "困惑 2\n",
      "有關 1\n",
      "軟體 1\n",
      "Re 3\n",
      "： 1\n",
      "看板 1\n",
      "24 1\n",
      "  22\n",
      "( 1\n",
      "29 1\n",
      "（ 1\n",
      "2012 1\n",
      "... 1\n",
      "走向 1\n",
      "Mobile 1\n",
      "版 1\n",
      "iOS 1\n",
      "誠徵 1\n",
      "最後修訂 1\n",
      "效率 2\n",
      "～ 1\n",
      "工程 2\n",
      "【 1\n",
      "的 2\n",
      "與 2\n",
      "） 1\n",
      "Android 1\n",
      "02 1\n",
      "05 1\n",
      "師 2\n",
      "09 1\n",
      "/ 6\n",
      "小天使 1\n",
      "奇群 1\n",
      "職訓 2\n",
      "新鮮 1\n",
      "? 6\n",
      "老魯蛇 2\n",
      "G 1\n",
      "招生 1\n",
      "人面 1\n",
      "嗎 1\n",
      "本版 1\n",
      "[ 12\n",
      "廠 1\n",
      "徵喜歡 1\n",
      "請問 1\n",
      "外匯 1\n",
      "Backend 1\n",
      "圈 2\n",
      "公告 1\n",
      "規 1\n",
      "心得 2\n",
      "Fw 1\n",
      "工作 1\n",
      "用過 1\n",
      "相關 1\n",
      ": 4\n",
      "情報 2\n",
      "範圍 1\n",
      "囉 1\n",
      "文章 1\n",
      "主管 1\n",
      "跟 1\n",
      "】 1\n",
      "MixerBox 1\n",
      "有人 1\n",
      "LED 1\n",
      "踢踏舞 1\n",
      "試 1\n",
      "請益 6\n",
      "跳 1\n",
      "社 1\n",
      "~ 1\n",
      "、 1\n",
      "會 3\n",
      "JavaScript 2\n",
      "對 2\n",
      "徵才 2\n",
      "？ 1\n",
      "VPS 1\n",
      "科技 1\n",
      "抉擇 2\n",
      "於 2\n",
      "FAE 1\n",
      "資策 2\n",
      "] 12\n",
      "22nd 1\n",
      "迴 2\n",
      "Developer 1\n",
      "08 1\n"
     ]
    }
   ],
   "source": [
    "## This is test for start crawl\n",
    "## Below code need three package requests, beautifulsoup, jieba\n",
    "## request http://www.python-requests.org/en/latest/\n",
    "## beautifulsoup http://www.crummy.com/software/BeautifulSoup/bs4/doc/\n",
    "## jieba https://pypi.python.org/pypi/jieba/\n",
    "## the test page is the html from ptt web version\n",
    "\n",
    "import requests\n",
    "from bs4 import BeautifulSoup as bs\n",
    "import jieba\n",
    "res = requests.get('https://www.ptt.cc/bbs/Soft_Job/index.html', verify=False)\n",
    "soup = bs(res.text)\n",
    "dic = {}\n",
    "for ent in  soup.select('.r-ent'):\n",
    "    for w in jieba.cut(ent.select('.title')[0].text.strip()):\n",
    "        if w not in dic:\n",
    "            dic[w] = 1\n",
    "        else:\n",
    "            dic[w] = dic[w] + 1\n",
    "            \n",
    "for ele in  dic:   \n",
    "    print ele, dic[ele] "
   ]
  },
  {
   "cell_type": "code",
   "execution_count": null,
   "metadata": {
    "collapsed": true
   },
   "outputs": [],
   "source": [
    "import requests\n",
    "from bs4 import BeautifulSoup as bs\n",
    "import jieba\n",
    "res = requests.get('https://www.ptt.cc/bbs/Soft_Job/index.html', verify=False)\n",
    "soup = bs(res.text)\n",
    "dic = {}\n",
    "for ent in  soup.select('.r-ent'):\n",
    "    for w in jieba.cut(ent.select('.title')[0].text.strip()):\n",
    "        if w not in dic:\n",
    "            dic[w] = 1\n",
    "        else:\n",
    "            dic[w] = dic[w] + 1\n",
    "            \n",
    "for ele in  dic:   \n",
    "    print ele, dic[ele] "
   ]
  }
 ],
 "metadata": {
  "kernelspec": {
   "display_name": "Python 2",
   "language": "python",
   "name": "python2"
  },
  "language_info": {
   "codemirror_mode": {
    "name": "ipython",
    "version": 2
   },
   "file_extension": ".py",
   "mimetype": "text/x-python",
   "name": "python",
   "nbconvert_exporter": "python",
   "pygments_lexer": "ipython2",
   "version": "2.7.10"
  }
 },
 "nbformat": 4,
 "nbformat_minor": 0
}
