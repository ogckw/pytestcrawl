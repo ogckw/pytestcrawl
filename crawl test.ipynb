{
 "cells": [
  {
   "cell_type": "code",
   "execution_count": 1,
   "metadata": {
    "collapsed": false
   },
   "outputs": [
    {
     "name": "stdout",
     "output_type": "stream",
     "text": [
      "hello world\n"
     ]
    }
   ],
   "source": [
    "print 'hello world'"
   ]
  },
  {
   "cell_type": "code",
   "execution_count": 2,
   "metadata": {
    "collapsed": false
   },
   "outputs": [
    {
     "name": "stderr",
     "output_type": "stream",
     "text": [
      "c:\\python27\\lib\\site-packages\\requests\\packages\\urllib3\\connectionpool.py:768: InsecureRequestWarning: Unverified HTTPS request is being made. Adding certificate verification is strongly advised. See: https://urllib3.readthedocs.org/en/latest/security.html\n",
      "  InsecureRequestWarning)\n",
      "c:\\python27\\lib\\site-packages\\bs4\\__init__.py:166: UserWarning: No parser was explicitly specified, so I'm using the best available HTML parser for this system (\"html.parser\"). This usually isn't a problem, but if you run this code on another system, or in a different virtual environment, it may use a different parser and behave differently.\n",
      "\n",
      "To get rid of this warning, change this:\n",
      "\n",
      " BeautifulSoup([your markup])\n",
      "\n",
      "to this:\n",
      "\n",
      " BeautifulSoup([your markup], \"html.parser\")\n",
      "\n",
      "  markup_type=markup_type))\n",
      "Building prefix dict from c:\\python27\\lib\\site-packages\\jieba\\dict.txt ...\n",
      "DEBUG:jieba:Building prefix dict from c:\\python27\\lib\\site-packages\\jieba\\dict.txt ...\n",
      "Loading model from cache c:\\users\\bigdata\\appdata\\local\\temp\\jieba.cache\n",
      "DEBUG:jieba:Loading model from cache c:\\users\\bigdata\\appdata\\local\\temp\\jieba.cache\n",
      "Loading model cost 0.528 seconds.\n",
      "DEBUG:jieba:Loading model cost 0.528 seconds.\n",
      "Prefix dict has been built succesfully.\n",
      "DEBUG:jieba:Prefix dict has been built succesfully.\n"
     ]
    },
    {
     "name": "stdout",
     "output_type": "stream",
     "text": [
      "　1\n",
      "困惑 2\n",
      "有關 1\n",
      "軟體 1\n",
      "Re 3\n",
      "： 1\n",
      "看板 1\n",
      "24 1\n",
      "  22\n",
      "( 1\n",
      "29 1\n",
      "（ 1\n",
      "2012 1\n",
      "... 1\n",
      "走向 1\n",
      "Mobile 1\n",
      "版 1\n",
      "iOS 1\n",
      "誠徵 1\n",
      "最後修訂 1\n",
      "效率 2\n",
      "～ 1\n",
      "工程 2\n",
      "【 1\n",
      "的 2\n",
      "與 2\n",
      "） 1\n",
      "Android 1\n",
      "02 1\n",
      "05 1\n",
      "師 2\n",
      "09 1\n",
      "/ 6\n",
      "小天使 1\n",
      "奇群 1\n",
      "職訓 2\n",
      "新鮮 1\n",
      "? 6\n",
      "老魯蛇 2\n",
      "G 1\n",
      "招生 1\n",
      "人面 1\n",
      "嗎 1\n",
      "本版 1\n",
      "[ 12\n",
      "廠 1\n",
      "徵喜歡 1\n",
      "請問 1\n",
      "外匯 1\n",
      "Backend 1\n",
      "圈 2\n",
      "公告 1\n",
      "規 1\n",
      "心得 2\n",
      "Fw 1\n",
      "工作 1\n",
      "用過 1\n",
      "相關 1\n",
      ": 4\n",
      "情報 2\n",
      "範圍 1\n",
      "囉 1\n",
      "文章 1\n",
      "主管 1\n",
      "跟 1\n",
      "】 1\n",
      "MixerBox 1\n",
      "有人 1\n",
      "LED 1\n",
      "踢踏舞 1\n",
      "試 1\n",
      "請益 6\n",
      "跳 1\n",
      "社 1\n",
      "~ 1\n",
      "、 1\n",
      "會 3\n",
      "JavaScript 2\n",
      "對 2\n",
      "徵才 2\n",
      "？ 1\n",
      "VPS 1\n",
      "科技 1\n",
      "抉擇 2\n",
      "於 2\n",
      "FAE 1\n",
      "資策 2\n",
      "] 12\n",
      "22nd 1\n",
      "迴 2\n",
      "Developer 1\n",
      "08 1\n"
     ]
    }
   ],
   "source": [
    "## This is test for start crawl\n",
    "## Below code need three package requests, beautifulsoup, jieba\n",
    "## request http://www.python-requests.org/en/latest/\n",
    "## beautifulsoup http://www.crummy.com/software/BeautifulSoup/bs4/doc/\n",
    "## jieba https://pypi.python.org/pypi/jieba/\n",
    "## the test page is the html from ptt web version\n",
    "\n",
    "import requests\n",
    "from bs4 import BeautifulSoup as bs\n",
    "import jieba\n",
    "res = requests.get('https://www.ptt.cc/bbs/Soft_Job/index.html', verify=False)\n",
    "soup = bs(res.text)\n",
    "dic = {}\n",
    "for ent in  soup.select('.r-ent'):\n",
    "    for w in jieba.cut(ent.select('.title')[0].text.strip()):\n",
    "        if w not in dic:\n",
    "            dic[w] = 1\n",
    "        else:\n",
    "            dic[w] = dic[w] + 1\n",
    "            \n",
    "for ele in  dic:   \n",
    "    print ele, dic[ele] "
   ]
  },
  {
   "cell_type": "code",
   "execution_count": 1,
   "metadata": {
    "collapsed": false
   },
   "outputs": [
    {
     "name": "stdout",
     "output_type": "stream",
     "text": [
      "atrk.gif?account=1Nevh1aYY900M9\n",
      "7TuX85b.png\n",
      "hsLPrDM.png\n",
      "hsLPrDM.png\n",
      "gift.png\n",
      "loading.gif\n",
      "loginSafety.png\n",
      "nFZ4SZJ.jpg\n",
      "L3E3BtL.jpg\n",
      "FNgp850.jpg\n",
      "ed5bc19812c400de3c182b4cdce17d56.jpg\n",
      "FwMua49.jpg\n",
      "d09bb85464917aaf7a653b3e65ed91be.jpg\n",
      "u8RKKHV.jpg\n",
      "0c68244b4261c3c95ebd2ca460c4916e.jpg\n",
      "jNjpwvr.jpg\n",
      "ef060038309a887698a16b10b500d63b.jpg\n",
      "48bed48fdc2f81f7accebfb805c478f8.jpg\n",
      "10eb35379e4389272ac60a53320b7fdc.jpg\n",
      "f4bccc43dc8f53b33d079cb09663dc6a.jpg\n",
      "263b14f063d139a3c290f527f99cf472.jpg\n",
      "8e9cde1b49d9543a6d6e3c5f04f24c7a.jpg\n",
      "f425d124a3519dc6d401b911ad86c23e.jpg\n",
      "1e848a08d6453487abad9c11c3c31f28.jpg\n",
      "5b0893ce226902e45c5c64d5ba149cab.jpg\n",
      "f26ccdbde28811059003751658732483.jpg\n",
      "db089823225f740786300470144cf49e.jpg\n",
      "a41ce17751ca1ba781690a5db07d10ff.jpg\n",
      "e4d223c10024e34857590ae2c863c2e7.jpg\n",
      "4d8c86cd973b78842554b4b5367b0865.jpg\n",
      "85c55607b50c6816818960438404f39d.jpg\n",
      "33e5ed81a74842ed1a45a7441c1df85b.jpg\n",
      "bd0f6bac859092c3a27c937a14828a20.jpg\n",
      "3681e5cf5a78b9d2f693e433f3f6f1c7.jpg\n",
      "0512bb155b38fcc13ec8a61ad5bc1d4f.jpg\n",
      "f8234e3ad77cfdfaea97a61a0b062d0b.jpg\n",
      "9f1079df60a64aee3c8e036d0693ffc7.jpg\n",
      "16d3b62eb2584256ddbbe74ea1ee704e.jpg\n",
      "e9a49f9bbc102411deb39d8387a82699.jpg\n",
      "76548f65375874241e0cdf775ba106c1.jpg\n",
      "ba7d4ad31bc8092aeb87ace609462629.jpg\n",
      "53c8867c81dba53cf27a8e0560767383.jpg\n",
      "a41ce17751ca1ba781690a5db07d10ff.jpg\n",
      "b785f2996cc7c69b7cb1490a5e911de7.jpg\n",
      "ff5dc34492078be5f7e23fa69a1bbaf9.jpg\n",
      "5b6fea024c70275867b1084beef2bc80.jpg\n",
      "01d01f768891e9a37551d02fed0ad5d7.jpg\n",
      "203fe7ee751a1e96230947262137f9c4.jpg\n",
      "06137584e7d51d9b42189f6ab148e4cb.jpg\n",
      "209aebffdd1a926954f1a8ba7a12135b.jpg\n",
      "16bf04f29d6b1f28c909bbff0ccb186d.jpg\n",
      "a89edac38785e0fcf13742e4feb0bd9f.jpg\n",
      "514250021738aa479e1cafdfc73a6b7c.jpg\n",
      "bbaa470241394d8abc542ce7908f115e.jpg\n",
      "a2e52bb9fc1876e719aa421b552d553e.jpg\n",
      "0fe29d4644ec5e0cad9ced76dd31678d.jpg\n",
      "638d5e2467dd48c5206177a5009701ec.jpg\n",
      "42643b206bbd9cfe3d03a78d8bbf50da.jpg\n",
      "5b39225f26117dc6d197f786cc5ee73c.jpg\n",
      "2c49feb07d45ec5eb60cd4212b54b043.jpg\n",
      "ac03201ee84cc3523a83f19abacb6689.jpg\n",
      "474cdba96346829e30ba26530a7743db.jpg\n",
      "fc12ae4e0555eb271656625a0834645e.jpg\n",
      "132036ddj2p5d7md0bvpm2.jpg\n",
      "135528kumxyfqdbx9qwqzh.jpg\n",
      "141512qgvv2md56zmmxhjk.jpg\n",
      "142029dn77v4f3753pf775.jpg\n",
      "currykid.jpg\n",
      "142401u6ddb1d06j1vfd0e.jpg\n",
      "142659fjdjawoz0xxqum2u.png\n",
      "142925dkku9zz5v1r0kao0.jpg\n",
      "d6b58d4c496c23bba2b82b6e9c1c00ea.jpg\n",
      "bc69ec9bcd97f53c44ebf4878b81d93c.jpg\n",
      "c5eebfb2cd9b8ff6a0034cc4b56d5f2f.jpg\n",
      "aXNTwfht.png\n",
      "a03a012a1ace08a26b7e22e82cf2ce8c.jpg\n",
      "5deecb22554c4b8afee15b4bd54e7667.jpg\n",
      "4f7addfcf822c32ee173eb6e9274c7fc.jpg\n",
      "1b6cc43f61c70ab63d212db1f818f3d6.jpg\n",
      "sDEJfhd.gif\n",
      "IPl4NjW.gif\n",
      "qLTpZKN.jpg\n",
      "Chatjo1.png\n",
      "o1u5cDrq.jpg\n",
      "wDKJ5N2q.jpg\n",
      "CjUTDfyq.jpg\n",
      "131523araljjj40ljgzrjp.jpg.thumb.jpg\n",
      "1111142301c61cc54cd7a1042a.jpg\n",
      "1104032050ee1abecf7d7e9da0.jpg\n",
      "1613145.jpg\n",
      "ef49049402135fd84261cfcb56e14185.jpg\n",
      "ead90c1a5965a0ebe3cf37214955a5d5.jpg\n",
      "f6fda910bce1b414dde112bb7fa6614f.jpg\n",
      "d77b699b6d65f8c773cd2305f4a64299.jpg\n",
      "0068d8657e9124edb738550072f92762.jpg\n",
      "78018e2db2700171e0689c04ab3bd5ff.jpg\n",
      "fbf5423265d1c9104e037acdd488e39f.jpg\n",
      "J5Gb1cg.png\n",
      "uRAEOyG.png\n",
      "rnP561E.png\n",
      "BDVgDK5.png\n",
      "N6D4k1b.png\n",
      "UYRcFli.png\n",
      "VASHc2D.png\n",
      "Li6qldX.png\n",
      "Fi10Gjz.jpg\n",
      "H73VZmf.jpg\n",
      "uXa9b24.jpg\n",
      "ITHkU3Z.jpg\n",
      "gAriznO.jpg\n",
      "ECD286k.jpg\n",
      "CclhWgE.jpg\n",
      "Gr6cmvQ.jpg\n",
      "wHQg0E5.png\n",
      "NBvsr7X.png\n",
      "ad_close.gif\n",
      "6b98YnJ.jpg\n"
     ]
    },
    {
     "name": "stderr",
     "output_type": "stream",
     "text": [
      "c:\\python27\\lib\\site-packages\\bs4\\__init__.py:166: UserWarning: No parser was explicitly specified, so I'm using the best available HTML parser for this system (\"html.parser\"). This usually isn't a problem, but if you run this code on another system, or in a different virtual environment, it may use a different parser and behave differently.\n",
      "\n",
      "To get rid of this warning, change this:\n",
      "\n",
      " BeautifulSoup([your markup])\n",
      "\n",
      "to this:\n",
      "\n",
      " BeautifulSoup([your markup], \"html.parser\")\n",
      "\n",
      "  markup_type=markup_type))\n"
     ]
    }
   ],
   "source": [
    "## get html from ck101 by faked agent\n",
    "\n",
    "import requests\n",
    "from bs4 import BeautifulSoup as bs \n",
    "\n",
    "headers  = {'User-Agent':'Mozilla/5.0 (Windows NT 6.1; WOW64) AppleWebKit/537.36 (KHTML, like Gecko) Chrome/44.0.2403.262 Safari/537.36'}\n",
    "res = requests.get('http://ck101.com/', headers = headers)\n",
    "soup = bs(res.text)\n",
    "for img in soup.select('img'):\n",
    "    if 'png' in img.get('src') or 'jpg' in img.get('src') or 'gif' in img.get('src'):\n",
    "        print img.get('src').split('/')[-1] #get the img src and print\n",
    "        "
   ]
  },
  {
   "cell_type": "code",
   "execution_count": 42,
   "metadata": {
    "collapsed": false
   },
   "outputs": [
    {
     "ename": "IndentationError",
     "evalue": "expected an indented block (<ipython-input-42-3a558becd100>, line 18)",
     "output_type": "error",
     "traceback": [
      "\u001b[1;36m  File \u001b[1;32m\"<ipython-input-42-3a558becd100>\"\u001b[1;36m, line \u001b[1;32m18\u001b[0m\n\u001b[1;33m    del response\u001b[0m\n\u001b[1;37m      ^\u001b[0m\n\u001b[1;31mIndentationError\u001b[0m\u001b[1;31m:\u001b[0m expected an indented block\n"
     ]
    }
   ],
   "source": [
    "##get and download the pic\n",
    "import requests\n",
    "import shutil\n",
    "from bs4 import BeautifulSoup as bs \n",
    "\n",
    "headers  = {'User-Agent':'Mozilla/5.0 (Windows NT 6.1; WOW64) AppleWebKit/537.36 (KHTML, like Gecko) Chrome/44.0.2403.262 Safari/537.36'}\n",
    "res = requests.get('http://ck101.com/', headers = headers)\n",
    "soup = bs(res.text)\n",
    "\n",
    "for img in soup.select('img'):\n",
    "    fname = img.get('src').split('/')[-1]\n",
    "    extension = fname.split('.')[1]\n",
    "    if  extension in ['png', 'gif', 'jpg']:\n",
    "        #print fname\n",
    "        response = requests.get(img.get('src'), headers = headers, stream=True)\n",
    "        with open(fname, 'wb') as out_file:\n",
    "            #shutil.copyfileobj(response.raw, out_file)\n",
    "        del response"
   ]
  },
  {
   "cell_type": "code",
   "execution_count": 4,
   "metadata": {
    "collapsed": true
   },
   "outputs": [],
   "source": [
    " del response"
   ]
  },
  {
   "cell_type": "code",
   "execution_count": 36,
   "metadata": {
    "collapsed": false
   },
   "outputs": [
    {
     "name": "stdout",
     "output_type": "stream",
     "text": [
      "E:/data/01.jpg\n",
      "random time this loop is 10 seconds\n",
      "E:/data/02.jpg\n",
      "random time this loop is 11 seconds\n",
      "E:/data/03.jpg\n",
      "random time this loop is 15 seconds\n",
      "E:/data/04.jpg\n",
      "random time this loop is 7 seconds\n",
      "E:/data/05.jpg\n",
      "random time this loop is 6 seconds\n",
      "E:/data/06.jpg\n",
      "random time this loop is 12 seconds\n",
      "E:/data/07.jpg\n",
      "random time this loop is 13 seconds\n",
      "E:/data/08.jpg\n",
      "random time this loop is 12 seconds\n",
      "E:/data/09.jpg\n",
      "random time this loop is 12 seconds\n",
      "E:/data/010.jpg\n",
      "random time this loop is 11 seconds\n"
     ]
    },
    {
     "ename": "error",
     "evalue": "[Errno 10054] 遠端主機已強制關閉一個現存的連線。",
     "output_type": "error",
     "traceback": [
      "\u001b[1;31m---------------------------------------------------------------------------\u001b[0m",
      "\u001b[1;31merror\u001b[0m                                     Traceback (most recent call last)",
      "\u001b[1;32m<ipython-input-36-eeb19503cff1>\u001b[0m in \u001b[0;36m<module>\u001b[1;34m()\u001b[0m\n\u001b[0;32m     18\u001b[0m         \u001b[0mresponse\u001b[0m \u001b[1;33m=\u001b[0m \u001b[0mrequests\u001b[0m\u001b[1;33m.\u001b[0m\u001b[0mget\u001b[0m\u001b[1;33m(\u001b[0m\u001b[0mfname\u001b[0m\u001b[1;33m,\u001b[0m \u001b[0mheaders\u001b[0m \u001b[1;33m=\u001b[0m \u001b[0mheaders\u001b[0m\u001b[1;33m,\u001b[0m \u001b[0mstream\u001b[0m\u001b[1;33m=\u001b[0m\u001b[0mTrue\u001b[0m\u001b[1;33m)\u001b[0m\u001b[1;33m\u001b[0m\u001b[0m\n\u001b[0;32m     19\u001b[0m         \u001b[1;32mwith\u001b[0m \u001b[0mopen\u001b[0m\u001b[1;33m(\u001b[0m\u001b[1;34m'E:/data/0{}.jpg'\u001b[0m\u001b[1;33m.\u001b[0m\u001b[0mformat\u001b[0m\u001b[1;33m(\u001b[0m\u001b[0mcount\u001b[0m\u001b[1;33m)\u001b[0m\u001b[1;33m,\u001b[0m \u001b[1;34m'wb'\u001b[0m\u001b[1;33m)\u001b[0m \u001b[1;32mas\u001b[0m \u001b[0mf\u001b[0m\u001b[1;33m:\u001b[0m\u001b[1;33m\u001b[0m\u001b[0m\n\u001b[1;32m---> 20\u001b[1;33m             \u001b[0mshutil\u001b[0m\u001b[1;33m.\u001b[0m\u001b[0mcopyfileobj\u001b[0m\u001b[1;33m(\u001b[0m\u001b[0mresponse\u001b[0m\u001b[1;33m.\u001b[0m\u001b[0mraw\u001b[0m\u001b[1;33m,\u001b[0m \u001b[0mf\u001b[0m\u001b[1;33m)\u001b[0m\u001b[1;33m\u001b[0m\u001b[0m\n\u001b[0m\u001b[0;32m     21\u001b[0m             \u001b[1;32mprint\u001b[0m \u001b[1;34m'E:/data/0{}.jpg'\u001b[0m\u001b[1;33m.\u001b[0m\u001b[0mformat\u001b[0m\u001b[1;33m(\u001b[0m\u001b[0mcount\u001b[0m\u001b[1;33m)\u001b[0m\u001b[1;33m\u001b[0m\u001b[0m\n\u001b[0;32m     22\u001b[0m         \u001b[0mresponse\u001b[0m\u001b[1;33m.\u001b[0m\u001b[0mclose\u001b[0m\u001b[1;33m(\u001b[0m\u001b[1;33m)\u001b[0m\u001b[1;33m\u001b[0m\u001b[0m\n",
      "\u001b[1;32mc:\\python27\\lib\\shutil.pyc\u001b[0m in \u001b[0;36mcopyfileobj\u001b[1;34m(fsrc, fdst, length)\u001b[0m\n\u001b[0;32m     47\u001b[0m     \u001b[1;34m\"\"\"copy data from file-like object fsrc to file-like object fdst\"\"\"\u001b[0m\u001b[1;33m\u001b[0m\u001b[0m\n\u001b[0;32m     48\u001b[0m     \u001b[1;32mwhile\u001b[0m \u001b[1;36m1\u001b[0m\u001b[1;33m:\u001b[0m\u001b[1;33m\u001b[0m\u001b[0m\n\u001b[1;32m---> 49\u001b[1;33m         \u001b[0mbuf\u001b[0m \u001b[1;33m=\u001b[0m \u001b[0mfsrc\u001b[0m\u001b[1;33m.\u001b[0m\u001b[0mread\u001b[0m\u001b[1;33m(\u001b[0m\u001b[0mlength\u001b[0m\u001b[1;33m)\u001b[0m\u001b[1;33m\u001b[0m\u001b[0m\n\u001b[0m\u001b[0;32m     50\u001b[0m         \u001b[1;32mif\u001b[0m \u001b[1;32mnot\u001b[0m \u001b[0mbuf\u001b[0m\u001b[1;33m:\u001b[0m\u001b[1;33m\u001b[0m\u001b[0m\n\u001b[0;32m     51\u001b[0m             \u001b[1;32mbreak\u001b[0m\u001b[1;33m\u001b[0m\u001b[0m\n",
      "\u001b[1;32mc:\\python27\\lib\\site-packages\\requests\\packages\\urllib3\\response.pyc\u001b[0m in \u001b[0;36mread\u001b[1;34m(self, amt, decode_content, cache_content)\u001b[0m\n\u001b[0;32m    241\u001b[0m                 \u001b[1;32melse\u001b[0m\u001b[1;33m:\u001b[0m\u001b[1;33m\u001b[0m\u001b[0m\n\u001b[0;32m    242\u001b[0m                     \u001b[0mcache_content\u001b[0m \u001b[1;33m=\u001b[0m \u001b[0mFalse\u001b[0m\u001b[1;33m\u001b[0m\u001b[0m\n\u001b[1;32m--> 243\u001b[1;33m                     \u001b[0mdata\u001b[0m \u001b[1;33m=\u001b[0m \u001b[0mself\u001b[0m\u001b[1;33m.\u001b[0m\u001b[0m_fp\u001b[0m\u001b[1;33m.\u001b[0m\u001b[0mread\u001b[0m\u001b[1;33m(\u001b[0m\u001b[0mamt\u001b[0m\u001b[1;33m)\u001b[0m\u001b[1;33m\u001b[0m\u001b[0m\n\u001b[0m\u001b[0;32m    244\u001b[0m                     \u001b[1;32mif\u001b[0m \u001b[0mamt\u001b[0m \u001b[1;33m!=\u001b[0m \u001b[1;36m0\u001b[0m \u001b[1;32mand\u001b[0m \u001b[1;32mnot\u001b[0m \u001b[0mdata\u001b[0m\u001b[1;33m:\u001b[0m  \u001b[1;31m# Platform-specific: Buggy versions of Python.\u001b[0m\u001b[1;33m\u001b[0m\u001b[0m\n\u001b[0;32m    245\u001b[0m                         \u001b[1;31m# Close the connection when no data is returned\u001b[0m\u001b[1;33m\u001b[0m\u001b[1;33m\u001b[0m\u001b[0m\n",
      "\u001b[1;32mc:\\python27\\lib\\httplib.pyc\u001b[0m in \u001b[0;36mread\u001b[1;34m(self, amt)\u001b[0m\n\u001b[0;32m    610\u001b[0m         \u001b[1;31m# connection, and the user is reading more bytes than will be provided\u001b[0m\u001b[1;33m\u001b[0m\u001b[1;33m\u001b[0m\u001b[0m\n\u001b[0;32m    611\u001b[0m         \u001b[1;31m# (for example, reading in 1k chunks)\u001b[0m\u001b[1;33m\u001b[0m\u001b[1;33m\u001b[0m\u001b[0m\n\u001b[1;32m--> 612\u001b[1;33m         \u001b[0ms\u001b[0m \u001b[1;33m=\u001b[0m \u001b[0mself\u001b[0m\u001b[1;33m.\u001b[0m\u001b[0mfp\u001b[0m\u001b[1;33m.\u001b[0m\u001b[0mread\u001b[0m\u001b[1;33m(\u001b[0m\u001b[0mamt\u001b[0m\u001b[1;33m)\u001b[0m\u001b[1;33m\u001b[0m\u001b[0m\n\u001b[0m\u001b[0;32m    613\u001b[0m         \u001b[1;32mif\u001b[0m \u001b[1;32mnot\u001b[0m \u001b[0ms\u001b[0m \u001b[1;32mand\u001b[0m \u001b[0mamt\u001b[0m\u001b[1;33m:\u001b[0m\u001b[1;33m\u001b[0m\u001b[0m\n\u001b[0;32m    614\u001b[0m             \u001b[1;31m# Ideally, we would raise IncompleteRead if the content-length\u001b[0m\u001b[1;33m\u001b[0m\u001b[1;33m\u001b[0m\u001b[0m\n",
      "\u001b[1;32mc:\\python27\\lib\\socket.pyc\u001b[0m in \u001b[0;36mread\u001b[1;34m(self, size)\u001b[0m\n\u001b[0;32m    382\u001b[0m                 \u001b[1;31m# fragmentation issues on many platforms.\u001b[0m\u001b[1;33m\u001b[0m\u001b[1;33m\u001b[0m\u001b[0m\n\u001b[0;32m    383\u001b[0m                 \u001b[1;32mtry\u001b[0m\u001b[1;33m:\u001b[0m\u001b[1;33m\u001b[0m\u001b[0m\n\u001b[1;32m--> 384\u001b[1;33m                     \u001b[0mdata\u001b[0m \u001b[1;33m=\u001b[0m \u001b[0mself\u001b[0m\u001b[1;33m.\u001b[0m\u001b[0m_sock\u001b[0m\u001b[1;33m.\u001b[0m\u001b[0mrecv\u001b[0m\u001b[1;33m(\u001b[0m\u001b[0mleft\u001b[0m\u001b[1;33m)\u001b[0m\u001b[1;33m\u001b[0m\u001b[0m\n\u001b[0m\u001b[0;32m    385\u001b[0m                 \u001b[1;32mexcept\u001b[0m \u001b[0merror\u001b[0m\u001b[1;33m,\u001b[0m \u001b[0me\u001b[0m\u001b[1;33m:\u001b[0m\u001b[1;33m\u001b[0m\u001b[0m\n\u001b[0;32m    386\u001b[0m                     \u001b[1;32mif\u001b[0m \u001b[0me\u001b[0m\u001b[1;33m.\u001b[0m\u001b[0margs\u001b[0m\u001b[1;33m[\u001b[0m\u001b[1;36m0\u001b[0m\u001b[1;33m]\u001b[0m \u001b[1;33m==\u001b[0m \u001b[0mEINTR\u001b[0m\u001b[1;33m:\u001b[0m\u001b[1;33m\u001b[0m\u001b[0m\n",
      "\u001b[1;31merror\u001b[0m: [Errno 10054] 遠端主機已強制關閉一個現存的連線。"
     ]
    }
   ],
   "source": [
    "## get certain page for pic\n",
    "## get and download the pic\n",
    "import requests\n",
    "import shutil\n",
    "import time \n",
    "import random\n",
    "from bs4 import BeautifulSoup as bs \n",
    "\n",
    "headers  = {'User-Agent':'Mozilla/5.0 (Windows NT 6.1; WOW64) AppleWebKit/537.36 (KHTML, like Gecko) Chrome/44.0.2403.262 Safari/537.36'}\n",
    "res = requests.get('http://ck101.com/thread-3357728-1-1.html', headers = headers)\n",
    "soup = bs(res.text)\n",
    "\n",
    "count = 1\n",
    "for img in soup.select('img'):\n",
    "    fname = img.get('file')\n",
    "    if fname is not None:\n",
    "        name =  fname.split('/')[-1]\n",
    "        response = requests.get(fname, headers = headers, stream=True)\n",
    "        with open('E:/data/0{}.jpg'.format(count), 'wb') as f:\n",
    "            shutil.copyfileobj(response.raw, f)\n",
    "            print 'E:/data/0{}.jpg'.format(count)\n",
    "        response.close()\n",
    "        del response\n",
    "        count = count + 1\n",
    "        ran = 5 + int(random.random()*10)+1  ## random second to \n",
    "        print 'random time this loop is ' + str(ran) + ' seconds'\n",
    "        time.sleep(ran)\n",
    "print 'donwload has finished'\n",
    "\n",
    "    #   print extenstion\n",
    "    #if  extension in ['png', 'gif', 'jpg']\n",
    "      "
   ]
  },
  {
   "cell_type": "code",
   "execution_count": 6,
   "metadata": {
    "collapsed": false
   },
   "outputs": [
    {
     "ename": "NameError",
     "evalue": "name 'random' is not defined",
     "output_type": "error",
     "traceback": [
      "\u001b[1;31m---------------------------------------------------------------------------\u001b[0m",
      "\u001b[1;31mNameError\u001b[0m                                 Traceback (most recent call last)",
      "\u001b[1;32m<ipython-input-6-1f8a42ab0e97>\u001b[0m in \u001b[0;36m<module>\u001b[1;34m()\u001b[0m\n\u001b[1;32m----> 1\u001b[1;33m \u001b[0mrandom\u001b[0m\u001b[1;33m(\u001b[0m\u001b[1;33m)\u001b[0m\u001b[1;33m\u001b[0m\u001b[0m\n\u001b[0m",
      "\u001b[1;31mNameError\u001b[0m: name 'random' is not defined"
     ]
    }
   ],
   "source": [
    "random()"
   ]
  },
  {
   "cell_type": "code",
   "execution_count": 24,
   "metadata": {
    "collapsed": false
   },
   "outputs": [
    {
     "name": "stdout",
     "output_type": "stream",
     "text": [
      "8\n"
     ]
    }
   ],
   "source": [
    "\n",
    "print "
   ]
  },
  {
   "cell_type": "code",
   "execution_count": 27,
   "metadata": {
    "collapsed": false
   },
   "outputs": [
    {
     "data": {
      "text/plain": [
       "list"
      ]
     },
     "execution_count": 27,
     "metadata": {},
     "output_type": "execute_result"
    }
   ],
   "source": [
    "list"
   ]
  },
  {
   "cell_type": "code",
   "execution_count": 28,
   "metadata": {
    "collapsed": false
   },
   "outputs": [
    {
     "ename": "NameError",
     "evalue": "name 'listdir' is not defined",
     "output_type": "error",
     "traceback": [
      "\u001b[1;31m---------------------------------------------------------------------------\u001b[0m",
      "\u001b[1;31mNameError\u001b[0m                                 Traceback (most recent call last)",
      "\u001b[1;32m<ipython-input-28-8649fc11f83f>\u001b[0m in \u001b[0;36m<module>\u001b[1;34m()\u001b[0m\n\u001b[1;32m----> 1\u001b[1;33m \u001b[0mlistdir\u001b[0m\u001b[1;33m(\u001b[0m\u001b[1;33m)\u001b[0m\u001b[1;33m\u001b[0m\u001b[0m\n\u001b[0m",
      "\u001b[1;31mNameError\u001b[0m: name 'listdir' is not defined"
     ]
    }
   ],
   "source": [
    "listdir()"
   ]
  },
  {
   "cell_type": "code",
   "execution_count": 29,
   "metadata": {
    "collapsed": false
   },
   "outputs": [
    {
     "ename": "NameError",
     "evalue": "name 'os' is not defined",
     "output_type": "error",
     "traceback": [
      "\u001b[1;31m---------------------------------------------------------------------------\u001b[0m",
      "\u001b[1;31mNameError\u001b[0m                                 Traceback (most recent call last)",
      "\u001b[1;32m<ipython-input-29-eff7f7465dbc>\u001b[0m in \u001b[0;36m<module>\u001b[1;34m()\u001b[0m\n\u001b[1;32m----> 1\u001b[1;33m \u001b[0mos\u001b[0m\u001b[1;33m.\u001b[0m\u001b[0mlistdir\u001b[0m\u001b[1;33m(\u001b[0m\u001b[1;33m)\u001b[0m\u001b[1;33m\u001b[0m\u001b[0m\n\u001b[0m",
      "\u001b[1;31mNameError\u001b[0m: name 'os' is not defined"
     ]
    }
   ],
   "source": [
    "os.listdir()"
   ]
  },
  {
   "cell_type": "code",
   "execution_count": 31,
   "metadata": {
    "collapsed": false
   },
   "outputs": [
    {
     "data": {
      "text/plain": [
       "['laa.csv', 'laad.csv', 'Object.dat']"
      ]
     },
     "execution_count": 31,
     "metadata": {},
     "output_type": "execute_result"
    }
   ],
   "source": [
    "import os\n",
    "os.listdir('E:\\data')"
   ]
  },
  {
   "cell_type": "code",
   "execution_count": 33,
   "metadata": {
    "collapsed": false
   },
   "outputs": [
    {
     "data": {
      "text/plain": [
       "list"
      ]
     },
     "execution_count": 33,
     "metadata": {},
     "output_type": "execute_result"
    }
   ],
   "source": [
    "type (os.listdir('E:\\data'))"
   ]
  },
  {
   "cell_type": "code",
   "execution_count": null,
   "metadata": {
    "collapsed": true
   },
   "outputs": [],
   "source": []
  }
 ],
 "metadata": {
  "kernelspec": {
   "display_name": "Python 2",
   "language": "python",
   "name": "python2"
  },
  "language_info": {
   "codemirror_mode": {
    "name": "ipython",
    "version": 2
   },
   "file_extension": ".py",
   "mimetype": "text/x-python",
   "name": "python",
   "nbconvert_exporter": "python",
   "pygments_lexer": "ipython2",
   "version": "2.7.10"
  }
 },
 "nbformat": 4,
 "nbformat_minor": 0
}
