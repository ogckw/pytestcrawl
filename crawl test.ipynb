{
 "cells": [
  {
   "cell_type": "code",
   "execution_count": null,
   "metadata": {
    "collapsed": false
   },
   "outputs": [],
   "source": [
    "print 'hello world'"
   ]
  },
  {
   "cell_type": "code",
   "execution_count": null,
   "metadata": {
    "collapsed": false
   },
   "outputs": [],
   "source": [
    "## This is test for start crawl\n",
    "## Below code need three package requests, beautifulsoup, jieba\n",
    "## request http://www.python-requests.org/en/latest/\n",
    "## beautifulsoup http://www.crummy.com/software/BeautifulSoup/bs4/doc/\n",
    "## jieba https://pypi.python.org/pypi/jieba/\n",
    "## the test page is the html from ptt web version\n",
    "\n",
    "import requests\n",
    "from bs4 import BeautifulSoup as bs\n",
    "import jieba\n",
    "res = requests.get('https://www.ptt.cc/bbs/Soft_Job/index.html', verify=False)\n",
    "soup = bs(res.text)\n",
    "dic = {}\n",
    "for ent in  soup.select('.r-ent'):\n",
    "    for w in jieba.cut(ent.select('.title')[0].text.strip()):\n",
    "        if w not in dic:\n",
    "            dic[w] = 1\n",
    "        else:\n",
    "            dic[w] = dic[w] + 1\n",
    "            \n",
    "for ele in  dic:   \n",
    "    print ele, dic[ele] "
   ]
  },
  {
   "cell_type": "code",
   "execution_count": null,
   "metadata": {
    "collapsed": false
   },
   "outputs": [],
   "source": [
    "## get html from ck101 by faked agent\n",
    "\n",
    "import requests\n",
    "from bs4 import BeautifulSoup as bs \n",
    "\n",
    "headers  = {'User-Agent':'Mozilla/5.0 (Windows NT 6.1; WOW64) AppleWebKit/537.36 (KHTML, like Gecko) Chrome/44.0.2403.262 Safari/537.36'}\n",
    "res = requests.get('http://ck101.com/', headers = headers)\n",
    "soup = bs(res.text)\n",
    "for img in soup.select('img'):\n",
    "    if 'png' in img.get('src') or 'jpg' in img.get('src') or 'gif' in img.get('src'):\n",
    "        print img.get('src').split('/')[-1] #get the img src and print\n",
    "        "
   ]
  },
  {
   "cell_type": "code",
   "execution_count": null,
   "metadata": {
    "collapsed": false
   },
   "outputs": [],
   "source": [
    "##get and download the pic\n",
    "import requests\n",
    "import shutil\n",
    "from bs4 import BeautifulSoup as bs \n",
    "\n",
    "headers  = {'User-Agent':'Mozilla/5.0 (Windows NT 6.1; WOW64) AppleWebKit/537.36 (KHTML, like Gecko) Chrome/44.0.2403.262 Safari/537.36'}\n",
    "res = requests.get('http://ck101.com/', headers = headers)\n",
    "soup = bs(res.text)\n",
    "\n",
    "for img in soup.select('img'):\n",
    "    fname = img.get('src').split('/')[-1]\n",
    "    extension = fname.split('.')[1]\n",
    "    if  extension in ['png', 'gif', 'jpg']:\n",
    "        #print fname\n",
    "        response = requests.get(img.get('src'), headers = headers, stream=True)\n",
    "        with open(fname, 'wb') as out_file:\n",
    "            #shutil.copyfileobj(response.raw, out_file)\n",
    "        del response"
   ]
  },
  {
   "cell_type": "code",
   "execution_count": null,
   "metadata": {
    "collapsed": true
   },
   "outputs": [],
   "source": [
    " del response"
   ]
  },
  {
   "cell_type": "code",
   "execution_count": null,
   "metadata": {
    "collapsed": false
   },
   "outputs": [],
   "source": [
    "## get certain page for pic\n",
    "## get and download the pic\n",
    "import requests\n",
    "import shutil\n",
    "import time \n",
    "import random\n",
    "from bs4 import BeautifulSoup as bs \n",
    "\n",
    "headers  = {'User-Agent':'Mozilla/5.0 (Windows NT 6.1; WOW64) AppleWebKit/537.36 (KHTML, like Gecko) Chrome/44.0.2403.262 Safari/537.36'}\n",
    "res = requests.get('http://ck101.com/thread-3129396-1-1.html', headers = headers)\n",
    "soup = bs(res.text)\n",
    "\n",
    "count = 1\n",
    "for img in soup.select('img'):\n",
    "    fname = img.get('file')\n",
    "    if fname is not None:\n",
    "        name =  fname.split('/')[-1]\n",
    "        response = requests.get(fname, headers = headers, stream=True ,timeout=5)\n",
    "        with open('E:/data/0{}.jpg'.format(count), 'wb') as f:\n",
    "            shutil.copyfileobj(response.raw, f)\n",
    "            print 'E:/data/0{}.jpg'.format(count)   \n",
    "        response.close()\n",
    "        del response\n",
    "        count = count + 1\n",
    "        ran = 5 + int(random.random()*10)+1  ## random second to \n",
    "        print 'random time this loop is ' + str(ran) + ' seconds'\n",
    "        time.sleep(ran)\n",
    "print 'donwload has finished'\n",
    "\n",
    "      "
   ]
  },
  {
   "cell_type": "code",
   "execution_count": null,
   "metadata": {
    "collapsed": false
   },
   "outputs": [],
   "source": [
    "random()"
   ]
  },
  {
   "cell_type": "code",
   "execution_count": null,
   "metadata": {
    "collapsed": false
   },
   "outputs": [],
   "source": [
    "\n",
    "print "
   ]
  },
  {
   "cell_type": "code",
   "execution_count": null,
   "metadata": {
    "collapsed": false
   },
   "outputs": [],
   "source": [
    "list"
   ]
  },
  {
   "cell_type": "code",
   "execution_count": null,
   "metadata": {
    "collapsed": false
   },
   "outputs": [],
   "source": [
    "listdir()"
   ]
  },
  {
   "cell_type": "code",
   "execution_count": null,
   "metadata": {
    "collapsed": false
   },
   "outputs": [],
   "source": [
    "os.listdir()"
   ]
  },
  {
   "cell_type": "code",
   "execution_count": null,
   "metadata": {
    "collapsed": false
   },
   "outputs": [],
   "source": [
    "import os\n",
    "os.listdir('E:\\data')"
   ]
  },
  {
   "cell_type": "code",
   "execution_count": null,
   "metadata": {
    "collapsed": false
   },
   "outputs": [],
   "source": [
    "type (os.listdir('E:\\data'))"
   ]
  },
  {
   "cell_type": "code",
   "execution_count": 14,
   "metadata": {
    "collapsed": false
   },
   "outputs": [
    {
     "name": "stdout",
     "output_type": "stream",
     "text": [
      "D:/comic/01.jpg\n",
      "D:/comic/02.jpg\n",
      "D:/comic/03.jpg\n",
      "D:/comic/04.jpg\n",
      "D:/comic/05.jpg\n",
      "D:/comic/06.jpg\n",
      "D:/comic/07.jpg\n",
      "D:/comic/08.jpg\n",
      "D:/comic/09.jpg\n",
      "D:/comic/010.jpg\n",
      "D:/comic/011.jpg\n",
      "D:/comic/012.jpg\n",
      "D:/comic/013.jpg\n",
      "D:/comic/014.jpg\n"
     ]
    }
   ],
   "source": [
    "from selenium import webdriver\n",
    "import requests\n",
    "import shutil\n",
    "from bs4 import BeautifulSoup as bs \n",
    "\n",
    "headers = {\n",
    "'User-Agent':'Mozilla/5.0 (Windows NT 6.1; WOW64) AppleWebKit/537.36 (KHTML, like Gecko) Chrome/45.0.2454.85 Safari/537.36' \n",
    "}\n",
    "driver = webdriver.Firefox()\n",
    "driver.get(\"http://www.comicvip.com/show/cool-103.html?ch=799-1\")\n",
    "\n",
    "soup0 = driver.page_source\n",
    "soup0 = bs(soup0)\n",
    "pagenum = soup0.select('#pagenum')[0].text\n",
    "page = pagenum.split('/')[1]\n",
    "\n",
    "fp = page.strip(u'\\u9801')\n",
    "fp = int(fp)\n",
    "driver.close()\n",
    "\n",
    "for i in range (1,fp+1):\n",
    "    driver2 = webdriver.Firefox()\n",
    "    driver2.implicitly_wait(5) # seconds\n",
    "    driver2.get(\"http://www.comicvip.com/show/cool-103.html?ch=799-{}\".format(i))\n",
    "    soup=bs(driver2.page_source)\n",
    "    driver2.close()\n",
    "    soup2 = soup.select('#TheImg')[0].get('src')\n",
    "    response = requests.get(soup2, headers = headers, stream=True ,timeout=5)\n",
    "    with open('D:/comic/0{}.jpg'.format(i), 'wb') as f:\n",
    "        shutil.copyfileobj(response.raw, f)\n",
    "        print 'D:/comic/0{}.jpg'.format(i)   \n",
    "    response.close()\n",
    "    del response\n"
   ]
  },
  {
   "cell_type": "code",
   "execution_count": null,
   "metadata": {
    "collapsed": false
   },
   "outputs": [],
   "source": [
    "soup2 = soup.select('#TheImg')[0].get('src')\n",
    "print soup2"
   ]
  },
  {
   "cell_type": "code",
   "execution_count": null,
   "metadata": {
    "collapsed": false
   },
   "outputs": [],
   "source": [
    "import requests\n",
    "import shutil\n",
    "import time \n",
    "import random\n",
    "from bs4 import BeautifulSoup as bs \n",
    "\n"
   ]
  },
  {
   "cell_type": "code",
   "execution_count": null,
   "metadata": {
    "collapsed": false
   },
   "outputs": [],
   "source": []
  },
  {
   "cell_type": "code",
   "execution_count": null,
   "metadata": {
    "collapsed": false
   },
   "outputs": [],
   "source": [
    "from selenium import webdriver\n",
    "\n",
    "from bs4 import BeautifulSoup as bs \n",
    "driver.get(\"http://www.comicvip.com/show/cool-103.html?ch=799-1\")\n",
    "soup0 = bs(driver.page_source)\n",
    "print soup0.select('#pagenum')"
   ]
  },
  {
   "cell_type": "code",
   "execution_count": null,
   "metadata": {
    "collapsed": false
   },
   "outputs": [],
   "source": [
    "\n",
    "pagenum = soup0.select('#pagenum')[0].text\n",
    "print pagenum.split('/')\n",
    "page = pagenum.split('/')[1]\n",
    "print page\n",
    "fp = page.strip(u'\\u9801')\n",
    "print fp\n",
    "type(int(fp))\n"
   ]
  },
  {
   "cell_type": "code",
   "execution_count": 11,
   "metadata": {
    "collapsed": false
   },
   "outputs": [
    {
     "name": "stdout",
     "output_type": "stream",
     "text": [
      "<html xmlns=\"http://www.w3.org/1999/xhtml\"><head><meta content=\"text/html; charset=utf-8\" http-equiv=\"Content-Type\"/><title>海賊王 1 - 799  海賊王漫畫線上觀看 無限動漫 8comic.com</title><link href=\"/css/global.css\" rel=\"stylesheet\" type=\"text/css\"/><meta content=\"free comic,online comic,free anime download,free cartoon download,海賊王,在線漫畫,線上觀看,免費漫畫,漫畫下載,漫畫圖片,動畫下載,動畫,漫畫,卡通,動漫無限\" name=\"keywords\"/><meta content=\"海賊王免費漫畫線上觀看 - free online comic\" name=\"description\"/><script async=\"\" src=\"https://pagead2.googlesyndication.com/pub-config/ca-pub-4955475422456028.js\" type=\"text/javascript\"></script><script>if(document.location.href.toLowerCase().indexOf(\"best-manga-104.html?ch=618\")&gt;0) document.location.href=\"temp104.html?ch=618\";</script><script src=\"//ssl.sitemaji.com/geo/\"></script><script src=\"//ssl.sitemaji.com/geo/\"></script><script src=\"http://ad.sitemaji.com/t/5252c4bcb69f_728x90.json\" type=\"text/javascript\"></script><script src=\"http://ad.sitemaji.com/t/5252c4bcb69f_728x90.json\" type=\"text/javascript\"></script></head>\n",
      "<body><table align=\"center\" bgcolor=\"#000000\" border=\"0\" cellpadding=\"0\" cellspacing=\"0\" width=\"100%\"><tbody><tr><td bgcolor=\"#000000\" colspan=\"2\" width=\"10%\"><a href=\"/\" target=\"_top\"><img align=\"absmiddle\" border=\"0\" id=\"logo\" name=\"logo\" src=\"/images/logos.gif\"/></a></td>\n",
      "<td style=\"background:url(/images/tbg.jpg);background-repeat:no-repeat;\"><script src=\"/js/top.js\"></script><center><a href=\"http://m.8comic.com\" target=\"_blank\"><img align=\"absmiddle\" border=\"0\" src=\"/images/mobile-35.gif\"/></a></center></td><td align=\"right\" nowrap=\"nowrap\" valign=\"bottom\" width=\"10%\"><a href=\"/msg\"><img align=\"absmiddle\" border=\"0\" src=\"/msg/images/newmsg0.gif\"/></a> <a class=\"w\" href=\"/msg\" id=\"Msg2\">漫畫報錯 </a><img align=\"absmiddle/\" border=\"0\" src=\"/images/vline.gif\"/> <a class=\"w\" href=\"/member/favourite.aspx\">收藏夾整理</a> <img align=\"absmiddle/\" border=\"0\" src=\"/images/vline.gif\"/> <a class=\"w\" href=\"/comic/u-1.html\">每日更新漫畫列表</a> <img align=\"absmiddle/\" border=\"0\" src=\"/images/vline.gif\"/><a class=\"w\" href=\"/comic/all.html\">全站漫畫列表</a>  </td></tr><tr><td background=\"/images/menubg2.gif\" bgcolor=\"#CCCCCC\" colspan=\"4\"><table align=\"center\" border=\"0\" cellpadding=\"0\" cellspacing=\"0\" width=\"100%\"><tbody><tr align=\"center\"><th height=\"40\"> </th><td><a href=\"/comic/1-1.html\">格鬥</a></td><th><img src=\"/images/l.gif\"/></th><td><a href=\"/comic/6-1.html\">冒險</a></td><th><img src=\"/images/l.gif\"/></th><td><a href=\"/comic/5-1.html\">警探</a></td><th><img src=\"/images/l.gif\"/></th><td><a href=\"/comic/4-1.html\">戰國</a></td><th><img src=\"/images/l.gif\"/></th><td><a href=\"/comic/2-1.html\">競技</a></td><th><img src=\"/images/l.gif\"/></th><td><a href=\"/comic/16-1.html\">亨飪</a></td><th><img src=\"/images/l.gif\"/></th><td><a href=\"/comic/7-1.html\">機械</a></td><th><img src=\"/images/l.gif\"/></th><td><a href=\"/comic/22-1.html\">科幻</a></td><th><img src=\"/images/l.gif\"/></th><td><a href=\"/comic/3-1.html\">魔法</a></td><th><img src=\"/images/l.gif\"/></th><td><a href=\"/comic/8-1.html\">妖魔</a></td><th><img src=\"/images/l.gif\"/></th><td><a href=\"/comic/19-1.html\">恐怖</a></td><th><img src=\"/images/l.gif\"/></th><td><a href=\"/comic/21-1.html\">職業</a></td><th><img src=\"/images/l.gif\"/></th><td><a href=\"/comic/9-1.html\">港產</a></td><th><img src=\"/images/l.gif\"/></th><td><a href=\"/comic/11-1.html\">少女</a></td><th><img src=\"/images/l.gif\"/></th><td><a href=\"/comic/12-1.html\">少男</a></td><th><img src=\"/images/l.gif\"/></th><td><a href=\"/comic/15-1.html\">超女</a></td><th><img src=\"/images/l.gif\"/></th><td><a href=\"/comic/13-1.html\">搞笑</a></td><th><img src=\"/images/l.gif\"/></th><td><a href=\"/comic/14-1.html\">校園</a></td><th><img src=\"/images/l.gif\"/></th><td><a href=\"/comic/18-1.html\">短篇</a></td><th><img src=\"/images/l.gif\"/></th><td><a href=\"/comic/20-1.html\">其他</a></td><th align=\"right\"> </th></tr></tbody></table></td></tr></tbody></table><script src=\"/js/nview.js\"></script><form action=\"#\" id=\"Form1\" method=\"post\">\n",
      "<div class=\"aspNetHidden\">\n",
      "<input id=\"__VIEWSTATE\" name=\"__VIEWSTATE\" type=\"hidden\" value=\"/wEPDwUKLTMwMDQyMTI1NmRksmOdHDYdo09eoeFgIU99wK+xiy7MZASgFvsMBA0VztE=\"/>\n",
      "</div>\n",
      "<div class=\"aspNetHidden\">\n",
      "<input id=\"__VIEWSTATEGENERATOR\" name=\"__VIEWSTATEGENERATOR\" type=\"hidden\" value=\"3CB179A0\"/>\n",
      "</div><table align=\"center\" border=\"0\" cellpadding=\"0\" cellspacing=\"0\" width=\"97%\"><tbody><tr><td height=\"20\" nowrap=\"nowrap\" width=\"90%\"><script src=\"/js/topview.js\"></script></td></tr></tbody></table><table align=\"center\" border=\"0\" cellpadding=\"0\" cellspacing=\"0\" width=\"97%\"><tbody><tr><td align=\"center\"><table border=\"0\" cellpadding=\"0\" cellspacing=\"0\" width=\"100%\">\n",
      "<tbody><tr>\n",
      "<td height=\"10\"></td>\n",
      "</tr>\n",
      "<tr>\n",
      "<td align=\"center\">\n",
      "<script type=\"text/javascript\">&lt;!--\n",
      "google_ad_client = \"ca-pub-4955475422456028\";\n",
      "/* 8C_970X90 */\n",
      "google_ad_slot = \"8296529878\";\n",
      "google_ad_width = 970;\n",
      "google_ad_height = 90;\n",
      "//--&gt;\n",
      "</script>\n",
      "<script src=\"//pagead2.googlesyndication.com/pagead/show_ads.js\" type=\"text/javascript\">\n",
      "</script><ins id=\"aswift_0_expand\" style=\"display:inline-table;border:none;height:90px;margin:0;padding:0;position:relative;visibility:visible;width:970px;background-color:transparent\"><ins id=\"aswift_0_anchor\" style=\"display:block;border:none;height:90px;margin:0;padding:0;position:relative;visibility:visible;width:970px;background-color:transparent\"><iframe allowfullscreen=\"true\" allowtransparency=\"true\" frameborder=\"0\" height=\"90\" hspace=\"0\" id=\"aswift_0\" marginheight=\"0\" marginwidth=\"0\" name=\"aswift_0\" onload=\"var i=this.id,s=window.google_iframe_oncopy,H=s&amp;&amp;s.handlers,h=H&amp;&amp;H[i],w=this.contentWindow,d;try{d=w.document}catch(e){}if(h&amp;&amp;d&amp;&amp;(!d.body||!d.body.firstChild)){if(h.call){setTimeout(h,0)}else if(h.match){try{h=s.upd(h,i)}catch(e){}w.location.replace(h)}}\" scrolling=\"no\" style=\"left:0;position:absolute;top:0;\" vspace=\"0\" width=\"970\"></iframe></ins></ins>\n",
      "</td>\n",
      "</tr>\n",
      "</tbody></table>\n",
      "<table border=\"0\" cellpadding=\"0\" cellspacing=\"0\" height=\"10\" width=\"100%\">\n",
      "<tbody><tr>\n",
      "<td></td>\n",
      "</tr>\n",
      "</tbody></table></td></tr></tbody></table><table align=\"center\" background=\"/images/barc.gif\" border=\"0\" cellpadding=\"0\" cellspacing=\"0\" height=\"18\" width=\"97%\"><tbody><tr><td nowrap=\"nowrap\" width=\"20%\"><b> <font color=\"#EE3366\"><img align=\"absmiddle\" src=\"/images/barl.gif\"/>正在觀看:[ 海賊王 <font id=\"lastchapter\">799</font> ]</font></b></td><td align=\"left\" nowrap=\"nowrap\" width=\"10%\"><a false;=\"\" href=\"#\" id=\"prevvol\" onclick=\"pv();return\"><font face=\"webdings\">7</font> 上集: <font id=\"prevname\">[ 798 ]</font></a>  </td><td align=\"right\" nowrap=\"nowrap\" width=\"10%\"><a false;=\"\" href=\"#\" id=\"prev\" onclick=\"jp();return\" style=\"\"><b><font color=\"blue\">[ <font face=\"webdings\">3</font> 上 頁 ]</font></b></a></td><td align=\"center\" height=\"1%\" id=\"nav\" nowrap=\"nowrap\" width=\"10%\"><select id=\"pageindex\" name=\"select\" onchange=\"j(this.value)\" style=\"font-size:10px;font-family:arial\"><option value=\"1\">Page: 1</option><option value=\"2\">Page: 2</option><option value=\"3\">Page: 3</option><option value=\"4\">Page: 4</option><option value=\"5\">Page: 5</option><option value=\"6\">Page: 6</option><option value=\"7\">Page: 7</option><option value=\"8\">Page: 8</option><option value=\"9\">Page: 9</option><option value=\"10\">Page: 10</option><option value=\"11\">Page: 11</option><option value=\"12\">Page: 12</option><option value=\"13\">Page: 13</option><option value=\"14\">Page: 14</option></select></td><td align=\"left\" nowrap=\"nowrap\" width=\"10%\"><a false;=\"\" href=\"#\" id=\"next\" onclick=\"jn();return\"><b><font color=\"blue\">[ 下 頁<font face=\"webdings\">4</font> ]</font></b></a></td><td align=\"right\" nowrap=\"nowrap\" width=\"10%\"><a false;=\"\" href=\"#\" id=\"nextvol\" onclick=\"nv();return\" style=\"display: none;\">下集: <font id=\"nextname\">[  ]</font><font face=\"webdings\">8</font></a></td><td align=\"right\" nowrap=\"nowrap\" width=\"24%\"><a class=\"red\" false;=\"\" href=\"#\" id=\"lastvol\" onclick=\"lv();return\"><b>最新:[海賊王 799 ]<font color=\"#0099CC\"></font></b></a><img align=\"absmiddle\" src=\"/images/barr.gif\"/></td> </tr></tbody></table><table align=\"center\" border=\"0\" cellpadding=\"0\" cellspacing=\"0\" width=\"97%\"><tbody><tr><td align=\"center\"><table border=\"0\" cellpadding=\"0\" cellspacing=\"0\" height=\"2\"><tbody><tr><td> </td></tr></tbody></table>\n",
      "<div class=\"sitemajidr\" model=\"728x90\" position=\"top\" style=\"text-align: center;\"><iframe frameborder=\"0\" height=\"90\" marginheight=\"0\" marginwidth=\"0\" scrolling=\"no\" src=\"http://html.sitemaji.com/drcpm.html?width=728&amp;height=90&amp;site=1392962&amp;section_code=content&amp;ad_pos=ATF&amp;pub_url=sitemaji.com&amp;ad_type=\" width=\"728\"></iframe></div>\n",
      "<script src=\"http://ad.sitemaji.com/ysm_8comic.js\" type=\"text/javascript\"></script>\n",
      "<table border=\"0\" cellpadding=\"0\" cellspacing=\"0\" height=\"10\"><tbody><tr><td> </td></tr></tbody></table></td></tr></tbody></table><table align=\"center\" border=\"0\" cellpadding=\"0\" cellspacing=\"0\" id=\"TheTable\" width=\"97%\"><tbody><tr><td align=\"center\"><img border=\"0\" id=\"TheImg\" name=\"TheImg\" src=\"http://img3.6comic.com:99/2/103/799/001_c9g.jpg\"/></td></tr></tbody></table><table align=\"center\" cellpadding=\"0\" cellspacing=\"0\" width=\"97%\"><tbody><tr><td align=\"center\" height=\"5\"></td></tr><tr><td align=\"center\"><div class=\"sitemajiad\" model=\"728x90\" position=\"bottom\" style=\"text-align: center;\"><iframe allowtransparency=\"true\" frameborder=\"no\" framespacing=\"0\" height=\"90\" scrolling=\"no\" src=\"http://html.sitemaji.com/8comicsp1.html\" width=\"728\"></iframe></div>\n",
      "<script src=\"http://ad.sitemaji.com/ysm_8comic.js\" type=\"text/javascript\"></script>\n",
      "<table border=\"0\" cellpadding=\"0\" cellspacing=\"0\" height=\"1\"><tbody><tr><td> </td></tr></tbody></table></td></tr><tr><td align=\"center\" height=\"15\" id=\"prevnext2\"><a false;=\"\" href=\"#\" id=\"prev2\" onclick=\"jp();return\" style=\"line-height:14px\"><font color=\"blue\"><b>[ 上 頁 ]</b></font></a>          <a false;=\"\" href=\"#\" id=\"next2\" onclick=\"jn();return\" style=\"line-height:14px\"><font color=\"blue\"><b>[ 下 頁 ]</b></font></a></td></tr><tr><td align=\"center\"><table align=\"center\" border=\"0\" cellpadding=\"0\" cellspacing=\"0\" width=\"100%\">\n",
      "<tbody><tr>\n",
      "<td height=\"4\"></td>\n",
      "</tr>\n",
      "<tr>\n",
      "<td align=\"center\">\n",
      "<script type=\"text/javascript\">&lt;!--\n",
      "google_ad_client = \"ca-pub-4955475422456028\";\n",
      "/* 8C_970X250 */\n",
      "google_ad_slot = \"5343114118\";\n",
      "google_ad_width = 970;\n",
      "google_ad_height = 250;\n",
      "//--&gt;\n",
      "</script>\n",
      "<script src=\"//pagead2.googlesyndication.com/pagead/show_ads.js\" type=\"text/javascript\">\n",
      "</script><ins id=\"aswift_1_expand\" style=\"display:inline-table;border:none;height:250px;margin:0;padding:0;position:relative;visibility:visible;width:970px;background-color:transparent\"><ins id=\"aswift_1_anchor\" style=\"display:block;border:none;height:250px;margin:0;padding:0;position:relative;visibility:visible;width:970px;background-color:transparent\"><iframe allowfullscreen=\"true\" allowtransparency=\"true\" frameborder=\"0\" height=\"250\" hspace=\"0\" id=\"aswift_1\" marginheight=\"0\" marginwidth=\"0\" name=\"aswift_1\" onload=\"var i=this.id,s=window.google_iframe_oncopy,H=s&amp;&amp;s.handlers,h=H&amp;&amp;H[i],w=this.contentWindow,d;try{d=w.document}catch(e){}if(h&amp;&amp;d&amp;&amp;(!d.body||!d.body.firstChild)){if(h.call){setTimeout(h,0)}else if(h.match){try{h=s.upd(h,i)}catch(e){}w.location.replace(h)}}\" scrolling=\"no\" style=\"left:0;position:absolute;top:0;\" vspace=\"0\" width=\"970\"></iframe></ins></ins>\n",
      "</td>\n",
      "</tr>\n",
      "</tbody></table>\n",
      "<br/>\n",
      "<br/>\n",
      "<br/>\n",
      "<br/>\n",
      "<br/>\n",
      "</td></tr></tbody></table><table align=\"center\" background=\"/images/barc.gif\" border=\"0\" cellpadding=\"0\" cellspacing=\"0\" width=\"97%\"><tbody><tr><td><img align=\"absmiddle\" src=\"/images/barl.gif\"/></td><td align=\"right\" nowrap=\"nowrap\" width=\"5%\"><b><font color=\"#EE3366\"></font></b>鎖定比例：</td><td nowrap=\"nowrap\" width=\"15%\"><img align=\"absmiddle/\" alt=\"實際大小\" hand=\"\" hspace=\"2\" id=\"za\" onclick=\"zoomaa(this)\" src=\"/images/zooma.gif\" style=\"CURSOR:\"/><img align=\"absmiddle/\" hand=\"\" hspace=\"4\" id=\"zf\" onclick=\"zoomff(this)\" src=\"/images/zoomf.gif\" style=\"CURSOR:\"/></td><td align=\"center\" height=\"1%\" nowrap=\"nowrap\" width=\"20%\">按[<font color=\"#FF0000\">a</font>] 100%顯示 按 [<font color=\"#FF0000\">z</font>] 適應大小</td><td align=\"center\" id=\"pagenum\" nowrap=\"nowrap\" width=\"20%\">第1/14頁</td><td align=\"center\" nowrap=\"nowrap\" width=\"20%\"><font color=\"#0066CC\">[按空格:左右移動]</font> </td><td align=\"right\" nowrap=\"nowrap\" width=\"20%\"> <a href=\"javascript:window.close();\">[ 關閉 ]</a>   <a href=\"#\"><img align=\"absmiddle\" border=\"0\" hspace=\"2\" src=\"/images/top.gif\"/></a></td><td align=\"right\" nowrap=\"nowrap\"><img align=\"absmiddle\" src=\"/images/barr.gif\"/></td></tr></tbody></table><script>var chs=799;var ti=103;var cs='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';eval(unescape('sp%28%29;'));</script><table align=\"center\" border=\"0\" cellpadding=\"5\" cellspacing=\"0\" width=\"97%\"><tbody><tr><td height=\"1%\" nowrap=\"nowrap\" width=\"80%\"><table align=\"center\" border=\"0\" cellpadding=\"4\" cellspacing=\"0\"><tbody><tr><td align=\"center\"><script src=\"/js/bottom.js\"></script></td></tr></tbody></table></td></tr></tbody></table><table align=\"center\" border=\"0\" cellpadding=\"0\" cellspacing=\"0\" style=\"margin-top:1px\" width=\"100%\"><tbody><tr><td bgcolor=\"#dddddd\" height=\"1\"></td></tr><tr align=\"center\" bgcolor=\"#eeeeee\" height=\"20\"><td></td></tr><tr><td align=\"center\" bgcolor=\"#eeeeee\" height=\"60\" nowrap=\"nowrap\"><br/><a href=\"http://www.2comic.com\" target=\"_blank\">動漫易</a> | <a href=\"http://www.6comic.com\" target=\"_blank\">溜溜動漫</a> | <a href=\"http://www.862.tw\" target=\"_blank\">862遊戲</a> | <a href=\"http://www.8book.com\" target=\"_blank\">無限小說</a> <br/><br/><font color=\"#BFBFBF\">本站所有圖片均來自網路資源,並且免費提供,如有任何問題請與我們聯繫,確認後本站將會進行修正.</font><p></p></td></tr></tbody></table></form><img height=\"1\" src=\"http://ad.yieldmanager.com/pixel?id=1077990&amp;t=2\" width=\"1\"/><img height=\"1\" src=\"http://extern.yahoo.com/b?s=1197365499\" width=\"1\"/></body></html>\n"
     ]
    }
   ],
   "source": [
    "from bs4 import BeautifulSoup as bs \n",
    "from selenium import webdriver\n",
    "driver2 = webdriver.Firefox()\n",
    "driver2.get(\"http://www.comicvip.com/show/cool-103.html?ch=799-1\")\n",
    "soup0 = driver2.page_source\n",
    "soup0 = bs(soup0)\n",
    "print soup0"
   ]
  },
  {
   "cell_type": "code",
   "execution_count": null,
   "metadata": {
    "collapsed": true
   },
   "outputs": [],
   "source": []
  }
 ],
 "metadata": {
  "kernelspec": {
   "display_name": "Python 2",
   "language": "python",
   "name": "python2"
  },
  "language_info": {
   "codemirror_mode": {
    "name": "ipython",
    "version": 2
   },
   "file_extension": ".py",
   "mimetype": "text/x-python",
   "name": "python",
   "nbconvert_exporter": "python",
   "pygments_lexer": "ipython2",
   "version": "2.7.10"
  }
 },
 "nbformat": 4,
 "nbformat_minor": 0
}
