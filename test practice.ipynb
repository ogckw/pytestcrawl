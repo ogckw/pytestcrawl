{
 "cells": [
  {
   "cell_type": "code",
   "execution_count": 3,
   "metadata": {
    "collapsed": false
   },
   "outputs": [
    {
     "name": "stdout",
     "output_type": "stream",
     "text": [
      "I 452\n",
      "the 441\n",
      "OF 425\n",
      "and 328\n",
      "to 321\n",
      "you 290\n",
      "of 247\n",
      "me 239\n",
      "my 229\n",
      "SYRACUSE 229\n",
      "a 219\n",
      "in 213\n",
      "ANTIPHOLUS 204\n",
      "DROMIO 187\n",
      "that 177\n",
      "And 156\n",
      "not 155\n",
      "EPHESUS 155\n",
      "is 150\n",
      "for 150\n",
      "it 142\n",
      "with 134\n",
      "he 126\n",
      "thou 112\n",
      "your 110\n",
      "this 105\n",
      "him 102\n",
      "his 97\n",
      "ADRIANA 87\n",
      "will 86\n",
      "be 85\n",
      "sir 83\n",
      "by 80\n",
      "have 79\n",
      "at 77\n",
      "from 72\n",
      "her 70\n",
      "but 65\n",
      "or 59\n",
      "thee 58\n",
      "thy 56\n",
      "so 56\n",
      "The 55\n",
      "LUCIANA 55\n",
      "man 52\n",
      "am 52\n",
      "But 50\n",
      "did 48\n",
      "That 47\n",
      "all 47\n"
     ]
    }
   ],
   "source": [
    "# extract word\n",
    "\n",
    "fid = open ('E:\\pg1104.txt' ,'r')\n",
    "dic = {}\n",
    "for f in fid.readlines():\n",
    "    for word in f.strip().split():\n",
    "        out = word.strip('[,.>!*]') #except the punctuation\n",
    "        if out not in dic:\n",
    "            dic[out] = 1\n",
    "        else:\n",
    "            dic[out] = dic[out] + 1\n",
    "import operator\n",
    "x = dic\n",
    "sorted_x = sorted(x.items(), key=operator.itemgetter(1),reverse=True)\n",
    "#for k in sorted_x[0:50]:\n",
    "#    print k\n",
    "for k in sorted_x[0:50]:   # print the first max 50 times\n",
    "    print k[0],k[1]\n",
    "\n",
    "\n",
    "\n",
    "    \n"
   ]
  },
  {
   "cell_type": "code",
   "execution_count": 35,
   "metadata": {
    "collapsed": false
   },
   "outputs": [
    {
     "name": "stdout",
     "output_type": "stream",
     "text": [
      "Data\n"
     ]
    }
   ],
   "source": [
    "value = \"50342=Data,231\"\n",
    "result = value.strip(\"0123456789=,\")\n",
    "print result"
   ]
  },
  {
   "cell_type": "code",
   "execution_count": 2,
   "metadata": {
    "collapsed": false
   },
   "outputs": [],
   "source": [
    "from wordcloud import WordCloud\n",
    "text = open('D:\\pg1104.txt').read()\n",
    "wordcloud = WordCloud().generate(text)\n",
    "import matplotlib.pyplot as plt\n",
    "plt.imshow(wordcloud)\n",
    "plt.axis(\"off\")\n",
    "wordcloud = WordCloud().generate(text)\n",
    "plt.figure()\n",
    "plt.imshow(wordcloud)\n",
    "plt.axis(\"off\")\n",
    "plt.show()\n",
    "\n",
    "\n",
    "\n",
    "# The pil way (if you don't have matplotlib)\n",
    "#image = wordcloud.to_image()\n",
    "#image.show()"
   ]
  },
  {
   "cell_type": "code",
   "execution_count": null,
   "metadata": {
    "collapsed": true
   },
   "outputs": [],
   "source": []
  }
 ],
 "metadata": {
  "kernelspec": {
   "display_name": "Python 2",
   "language": "python",
   "name": "python2"
  },
  "language_info": {
   "codemirror_mode": {
    "name": "ipython",
    "version": 2
   },
   "file_extension": ".py",
   "mimetype": "text/x-python",
   "name": "python",
   "nbconvert_exporter": "python",
   "pygments_lexer": "ipython2",
   "version": "2.7.10"
  }
 },
 "nbformat": 4,
 "nbformat_minor": 0
}
