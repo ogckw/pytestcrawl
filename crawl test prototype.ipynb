{
 "cells": [
  {
   "cell_type": "code",
   "execution_count": null,
   "metadata": {
    "collapsed": false
   },
   "outputs": [],
   "source": [
    "print 'hello world'"
   ]
  },
  {
   "cell_type": "code",
   "execution_count": null,
   "metadata": {
    "collapsed": false
   },
   "outputs": [],
   "source": [
    "## This is test for start crawl\n",
    "## Below code need three package requests, beautifulsoup, jieba\n",
    "## request http://www.python-requests.org/en/latest/\n",
    "## beautifulsoup http://www.crummy.com/software/BeautifulSoup/bs4/doc/\n",
    "## jieba https://pypi.python.org/pypi/jieba/\n",
    "## the test page is the html from ptt web version\n",
    "\n",
    "import requests\n",
    "from bs4 import BeautifulSoup as bs\n",
    "import jieba\n",
    "res = requests.get('https://www.ptt.cc/bbs/Soft_Job/index.html', verify=False)\n",
    "soup = bs(res.text)\n",
    "dic = {}\n",
    "for ent in  soup.select('.r-ent'):\n",
    "    for w in jieba.cut(ent.select('.title')[0].text.strip()):\n",
    "        if w not in dic:\n",
    "            dic[w] = 1\n",
    "        else:\n",
    "            dic[w] = dic[w] + 1\n",
    "            \n",
    "for ele in  dic:   \n",
    "    print ele, dic[ele] "
   ]
  },
  {
   "cell_type": "code",
   "execution_count": null,
   "metadata": {
    "collapsed": false
   },
   "outputs": [],
   "source": [
    "## get html from ck101 by faked agent\n",
    "\n",
    "import requests\n",
    "from bs4 import BeautifulSoup as bs \n",
    "\n",
    "headers  = {'User-Agent':'Mozilla/5.0 (Windows NT 6.1; WOW64) AppleWebKit/537.36 (KHTML, like Gecko) Chrome/44.0.2403.262 Safari/537.36'}\n",
    "res = requests.get('http://ck101.com/', headers = headers)\n",
    "soup = bs(res.text)\n",
    "for img in soup.select('img'):\n",
    "    if 'png' in img.get('src') or 'jpg' in img.get('src') or 'gif' in img.get('src'):\n",
    "        print img.get('src').split('/')[-1] #get the img src and print\n",
    "        "
   ]
  },
  {
   "cell_type": "code",
   "execution_count": null,
   "metadata": {
    "collapsed": false
   },
   "outputs": [],
   "source": [
    "##get and download the pic\n",
    "import requests\n",
    "import shutil\n",
    "from bs4 import BeautifulSoup as bs \n",
    "\n",
    "headers  = {'User-Agent':'Mozilla/5.0 (Windows NT 6.1; WOW64) AppleWebKit/537.36 (KHTML, like Gecko) Chrome/44.0.2403.262 Safari/537.36'}\n",
    "res = requests.get('http://ck101.com/', headers = headers)\n",
    "soup = bs(res.text)\n",
    "\n",
    "for img in soup.select('img'):\n",
    "    fname = img.get('src').split('/')[-1]\n",
    "    extension = fname.split('.')[1]\n",
    "    if  extension in ['png', 'gif', 'jpg']:\n",
    "        #print fname\n",
    "        response = requests.get(img.get('src'), headers = headers, stream=True)\n",
    "        with open(fname, 'wb') as out_file:\n",
    "            #shutil.copyfileobj(response.raw, out_file)\n",
    "        del response"
   ]
  },
  {
   "cell_type": "code",
   "execution_count": null,
   "metadata": {
    "collapsed": true
   },
   "outputs": [],
   "source": [
    " del response"
   ]
  },
  {
   "cell_type": "code",
   "execution_count": null,
   "metadata": {
    "collapsed": false
   },
   "outputs": [],
   "source": [
    "## get certain page for pic\n",
    "## get and download the pic\n",
    "import requests\n",
    "import shutil\n",
    "import time \n",
    "import random\n",
    "from bs4 import BeautifulSoup as bs \n",
    "\n",
    "headers  = {'User-Agent':'Mozilla/5.0 (Windows NT 6.1; WOW64) AppleWebKit/537.36 (KHTML, like Gecko) Chrome/44.0.2403.262 Safari/537.36'}\n",
    "res = requests.get('http://ck101.com/thread-3129396-1-1.html', headers = headers)\n",
    "soup = bs(res.text)\n",
    "\n",
    "count = 1\n",
    "for img in soup.select('img'):\n",
    "    fname = img.get('file')\n",
    "    if fname is not None:\n",
    "        name =  fname.split('/')[-1]\n",
    "        response = requests.get(fname, headers = headers, stream=True ,timeout=5)\n",
    "        with open('E:/data/0{}.jpg'.format(count), 'wb') as f:\n",
    "            shutil.copyfileobj(response.raw, f)\n",
    "            print 'E:/data/0{}.jpg'.format(count)   \n",
    "        response.close()\n",
    "        del response\n",
    "        count = count + 1\n",
    "        ran = 5 + int(random.random()*10)+1  ## random second to \n",
    "        print 'random time this loop is ' + str(ran) + ' seconds'\n",
    "        time.sleep(ran)\n",
    "print 'donwload has finished'\n",
    "\n",
    "      "
   ]
  },
  {
   "cell_type": "code",
   "execution_count": null,
   "metadata": {
    "collapsed": false
   },
   "outputs": [],
   "source": [
    "random()"
   ]
  },
  {
   "cell_type": "code",
   "execution_count": null,
   "metadata": {
    "collapsed": false
   },
   "outputs": [],
   "source": [
    "\n",
    "print "
   ]
  },
  {
   "cell_type": "code",
   "execution_count": null,
   "metadata": {
    "collapsed": false
   },
   "outputs": [],
   "source": [
    "list"
   ]
  },
  {
   "cell_type": "code",
   "execution_count": null,
   "metadata": {
    "collapsed": false
   },
   "outputs": [],
   "source": [
    "listdir()"
   ]
  },
  {
   "cell_type": "code",
   "execution_count": null,
   "metadata": {
    "collapsed": false
   },
   "outputs": [],
   "source": [
    "os.listdir()"
   ]
  },
  {
   "cell_type": "code",
   "execution_count": null,
   "metadata": {
    "collapsed": false
   },
   "outputs": [],
   "source": [
    "import os\n",
    "os.listdir('E:\\data')"
   ]
  },
  {
   "cell_type": "code",
   "execution_count": null,
   "metadata": {
    "collapsed": false
   },
   "outputs": [],
   "source": [
    "type (os.listdir('E:\\data'))"
   ]
  },
  {
   "cell_type": "code",
   "execution_count": null,
   "metadata": {
    "collapsed": false
   },
   "outputs": [],
   "source": [
    "from selenium import webdriver\n",
    "from bs4 import BeautifulSoup as bs \n",
    "import requests\n",
    "import shutil\n",
    "import time \n",
    "import random\n",
    "\n",
    "\n",
    "#use selenium to get full source code in img\n",
    "driver = webdriver.Firefox()\n",
    "driver.get(\"http://www.comicvip.com/show/cool-103.html?ch=796-1\")\n",
    "\n",
    "#get the hole page at one chapter\n",
    "soup0 = driver.page_source\n",
    "soup0 = bs(soup0)\n",
    "pagenum = soup0.select('#pagenum')[0].text\n",
    "page = pagenum.split('/')[1]\n",
    "\n",
    "fp = page.strip(u'\\u9801')\n",
    "fp = int(fp)\n",
    "driver.close()\n",
    "\n",
    "#start to get comic by loop\n",
    "for i in range (1,fp+1):\n",
    "    driver2 = webdriver.Firefox()\n",
    "    driver2.implicitly_wait(5) # seconds\n",
    "    driver2.get(\"http://www.comicvip.com/show/cool-103.html?ch=796-{}\".format(i))\n",
    "    soup=bs(driver2.page_source)\n",
    "    driver2.close()\n",
    "    soup2 = soup.select('#TheImg')[0].get('src')\n",
    "    #Making a fake headers by loop because the \"Referer\" will change by page.  \n",
    "    headers = {\n",
    "    'Accept':'image/webp,image/*,*/*;q=0.8',\n",
    "    'Accept-Encoding':'gzip, deflate, sdch',\n",
    "    'Accept-Language':'zh-TW,zh;q=0.8,en-US;q=0.6,en;q=0.4',\n",
    "    'Connection':'keep-alive',\n",
    "    'Host':'img3.6comic.com:99',\n",
    "    'Referer':'http://www.comicvip.com/show/cool-103.html?ch=796-'+str(i),\n",
    "    'User-Agent':'Mozilla/5.0 (Windows NT 6.1; WOW64) AppleWebKit/537.36 (KHTML, like Gecko) Chrome/45.0.2454.85 Safari/537.36' \n",
    "    }\n",
    "    response = requests.get(soup2, headers = headers, stream=True ,timeout=5)\n",
    "    with open('D:/comic/0{}.jpg'.format(i), 'wb') as f:\n",
    "        shutil.copyfileobj(response.raw, f)\n",
    "        print 'D:/comic/0{}.jpg'.format(i)   \n",
    "    response.close()\n",
    "    del response\n",
    "    ran = int(random.random()*5)+1  ## random second to gentle crawl I don't want to make the website shutdown\n",
    "    print 'Random sleep time , this loop is going to sleep ' + str(ran) + ' seconds'\n",
    "    time.sleep(ran)\n",
    "print '------------------------------------------------'\n",
    "print 'Downloads are all Finished, congratulations!'"
   ]
  },
  {
   "cell_type": "code",
   "execution_count": null,
   "metadata": {
    "collapsed": false
   },
   "outputs": [],
   "source": [
    "soup2 = soup.select('#TheImg')[0].get('src')\n",
    "print soup2"
   ]
  },
  {
   "cell_type": "code",
   "execution_count": null,
   "metadata": {
    "collapsed": false
   },
   "outputs": [],
   "source": [
    "import requests\n",
    "import shutil\n",
    "import time \n",
    "import random\n",
    "from bs4 import BeautifulSoup as bs \n",
    "\n"
   ]
  },
  {
   "cell_type": "code",
   "execution_count": null,
   "metadata": {
    "collapsed": false
   },
   "outputs": [],
   "source": []
  },
  {
   "cell_type": "code",
   "execution_count": null,
   "metadata": {
    "collapsed": false
   },
   "outputs": [],
   "source": [
    "from selenium import webdriver\n",
    "\n",
    "from bs4 import BeautifulSoup as bs \n",
    "driver.get(\"http://www.comicvip.com/show/cool-103.html?ch=799-1\")\n",
    "soup0 = bs(driver.page_source)\n",
    "print soup0.select('#pagenum')"
   ]
  },
  {
   "cell_type": "code",
   "execution_count": null,
   "metadata": {
    "collapsed": false
   },
   "outputs": [],
   "source": [
    "\n",
    "pagenum = soup0.select('#pagenum')[0].text\n",
    "print pagenum.split('/')\n",
    "page = pagenum.split('/')[1]\n",
    "print page\n",
    "fp = page.strip(u'\\u9801')\n",
    "print fp\n",
    "type(int(fp))\n"
   ]
  },
  {
   "cell_type": "code",
   "execution_count": null,
   "metadata": {
    "collapsed": false
   },
   "outputs": [],
   "source": [
    "from bs4 import BeautifulSoup as bs \n",
    "from selenium import webdriver\n",
    "driver2 = webdriver.Firefox()\n",
    "driver2.get(\"http://www.comicvip.com/show/cool-103.html?ch=799-1\")\n",
    "soup0 = driver2.page_source\n",
    "soup0 = bs(soup0)\n",
    "print soup0"
   ]
  },
  {
   "cell_type": "code",
   "execution_count": null,
   "metadata": {
    "collapsed": true
   },
   "outputs": [],
   "source": []
  }
 ],
 "metadata": {
  "kernelspec": {
   "display_name": "Python 2",
   "language": "python",
   "name": "python2"
  },
  "language_info": {
   "codemirror_mode": {
    "name": "ipython",
    "version": 2
   },
   "file_extension": ".py",
   "mimetype": "text/x-python",
   "name": "python",
   "nbconvert_exporter": "python",
   "pygments_lexer": "ipython2",
   "version": "2.7.10"
  }
 },
 "nbformat": 4,
 "nbformat_minor": 0
}
